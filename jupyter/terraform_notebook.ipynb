{
 "cells": [
  {
   "cell_type": "markdown",
   "metadata": {
    "pycharm": {
     "name": "#%% md\n"
    }
   },
   "source": [
    "# README (Ignore if you are running on Mac/Linux)\n",
    "\n",
    "If you are running on Windows, make sure you have started the Jupyter Notebook in a Bash shell.\n",
    "Moreover, all the requirements below must be installed in this Bash (compatible) shell.\n",
    "\n",
    "This can be achieved as follows:\n",
    "\n",
    "1. Enable and install WSL(2) for Windows 10/11 [official documentation](https://docs.microsoft.com/en-us/windows/wsl/install)\n",
    "    * On newer builds of W10/11 you can install WSL by running the following command in an *administrator* PowerShell terminal. Which will install by default an Ubuntu instance of WSL.\n",
    "    ```bash\n",
    "   wsl --install\n",
    "    ```\n",
    "2. Start the Ubuntu Bash shell by searching for `Bash` under Start, or by running `bash` in a (normal) PowerShell terminal.\n",
    "\n",
    "Using a Bash terminal as started under step 2 above, you can install the Requirements as described below as if you are running it under Linux or Ubuntu/Debian."
   ]
  },
  {
   "cell_type": "markdown",
   "metadata": {
    "pycharm": {
     "name": "#%% md\n"
    }
   },
   "source": [
    "## Requirements\n",
    "These requirements may also be installed on Windows, however, development has only been tested on Linux/macOS.\n",
    "\n",
    "Before we get started, first make sure to install all the required tools. We provide two lists below, one needed for setting up the testbed. And one for developing code to use with the testbed. Feel free to skip the installation of the second list, and return at a later point in time.\n",
    "\n",
    "\n",
    "### Deployment\n",
    "\n",
    " > ⚠️ All dependencies must be installed in a Bash-compatible shell. For Windows users also see [above](#read-me)\n",
    "Make sure to install a recent version of each of the dependencies.\n",
    "\n",
    "\n",
    " * (Windows only) Install every dependency in a Windows Subsystem for the Linux, Bash shell (see also README above).\n",
    " * GCloud SDK\n",
    "    - Follow the installation instructions [here](https://cloud.google.com/sdk/docs/install), follow either the Linux installation instruction, or your OS/Distribution specific instructions.\n",
    "    - Initialize the SDK with `gcloud init`, if prompted you may ignore to set/create a default/first project.\n",
    "    - ⚠️ Run the command `gcloud auth application-default login`\n",
    "        - ℹ️ We need to run this command to utilize your login credentials programmatically with terraform. This is needed as we will use these to impersonate a service account during the creation and setup of the Kubernetes cluster.\n",
    "    - ⚠️ Run the command `gcloud components install beta`\n",
    "        - ℹ️ We need to run this command to list the billing account IDs and enable billing. Currently, these features fall under beta access.\n",
    "    - ⚠️ Run the command `gcloud components install gke-gcloud-auth-plugin`\n",
    "        - ℹ️ We need to run this command to retrieve cluster configurations (to be used by `kubectl` and `helm`)\n",
    "    - ⚠️ Run the command `gcloud auth configure-docker`\n",
    "        - ℹ️ We need to run this command to push container images with docker to your project's container registry\n",
    " * Kubectl (>= 1.22.0)\n",
    " * Helm (>= 3.9.4)\n",
    " * Terraform (>= 1.2.8)\n",
    " * Python3.9/10\n",
    "   * jupyter, ipython, bash_kernel\n",
    "```bash\n",
    "pip3 install -r requirements-jupyter.txt\n",
    "python3 -m bash_kernel.install\n",
    "```\n",
    "\n",
    "### Development\n",
    "For development, the following tools are needed/recommended:\n",
    "\n",
    " * Docker (>= 18.09).\n",
    "    - If you don't have experience with using Docker, we recommend following [this](https://docs.docker.com/get-started/) tutorial.\n",
    " * Python3.9\n",
    " * pip3\n",
    " * JetBrains PyCharm"
   ]
  },
  {
   "cell_type": "markdown",
   "metadata": {
    "pycharm": {
     "name": "#%% md\n"
    }
   },
   "source": [
    "# Preparation\n",
    "\n",
    "To make sure we can request resources on Google Cloud Platform (GCP), perform the following;\n",
    "\n",
    "1. Create a GCP account on [https://cloud.google.com](https://cloud.google.com), using a Google account\n",
    "2. Redeem your academic coupon on GCP, see Brightspace for information on obtaining the \\\\$50 academic coupon, or use the free \\\\$300 credits for new users provided by Google.\n",
    "\n",
    "\n",
    "3. Make sure to use the `Bash` kernel, not a Python or other kernel. For those on windows machines, make sure to launch the `jupyter notebook` server from a bash-compliant command line, we recommend Windows Subsystem for Linux.\n",
    "\n",
    "⚠️ Make sure to run this Notebook within a cloned repository, not standalone/downloaded from GitHub.\n"
   ]
  },
  {
   "cell_type": "markdown",
   "metadata": {
    "pycharm": {
     "name": "#%% md\n"
    }
   },
   "source": [
    "# Deployment\n",
    "\n",
    "⚠️ This notebook assumes that commands are executed in order. Executing the provided commands multiple times should not result in issues. However, re-running cells with `cd` commands, or altering cells (other than variables as instructed) may result in unexpected behaviour.\n",
    "\n",
    "## Getting started\n",
    "\n",
    "First, we will set a few variables used **throughout** the project. We set them in this notebook for convenience, but they are also set to some example default values in configuration files for the project. If you change any of these, make sure to change the corresponding variables as well in;\n",
    "\n",
    "* [`../terraform/terraform-gke/variables.tf`](../terraform/terraform-gke/variables.tf)\n",
    "* [`../terraform/terraform-dependencies/variables.tf`](../terraform/terraform-dependencies/variables.tf)\n",
    "\n",
    "\n",
    "> ⚠️ As you have changed the `PROJECT_ID` parameter to a unique project name, also change the `project_id` variable in the following files. This allows you to run `terraform apply` without having to override the default value for the project.\n",
    "\n",
    "> ℹ️ Any variable changed here can also be provided to `terraform` using the `-var` flag, i.e.  `-var terraform_variable=$BASH_VARIABLE`. An example for setting the `project_id` variable is also provided later."
   ]
  },
  {
   "cell_type": "code",
   "execution_count": 4,
   "metadata": {},
   "outputs": [
    {
     "name": "stdout",
     "output_type": "stream",
     "text": [
      "/home/yifan/Documents/fltk-testbed/jupyter\n"
     ]
    }
   ],
   "source": [
    "# VARIABLES THAT NEEDS TO BE SET\n",
    "\n",
    "##################\n",
    "### CHANGE ME! ###\n",
    "##################\n",
    "PROJECT_ID=\"test-bed-fltk\"\n",
    "\n",
    "# DEFAULT VARIABLES\n",
    "ACCOUNT_ID=\"terraform-iam-service-account\"\n",
    "PRIVILEGED_ACCOUNT_ID=\"${ACCOUNT_ID}@${PROJECT_ID}.iam.gserviceaccount.com\"\n",
    "CLUSTER_NAME=\"fltk-testbed-cluster\"\n",
    "DEFAULT_POOL=\"default-node-pool\"\n",
    "EXPERIMENT_POOL=\"medium-fltk-pool-1\"\n",
    "REGION=\"us-central1-c\"\n",
    "\n",
    "TERRAFORM_GKE_DIR=\"../terraform/terraform-gke\"\n",
    "TERRAFORM_DEPENDENCIES_DIR=\"../terraform/terraform-dependencies\""
   ]
  },
  {
   "cell_type": "markdown",
   "metadata": {
    "pycharm": {
     "name": "#%% md\n"
    }
   },
   "source": [
    "## Project creation\n",
    "\n",
    "Next, we create a project using the `PROJECT_ID` variable and get all the billing account information.\n",
    "\n",
    "⁉️ (Ignore if using a pre-existing GCP Project) If the command below does not complete successfully, make sure to change the `PROJECT_ID` variable in the previous cell and re-run it."
   ]
  },
  {
   "cell_type": "code",
   "execution_count": 5,
   "metadata": {},
   "outputs": [
    {
     "name": "stdout",
     "output_type": "stream",
     "text": [
      "Create in progress for [https://cloudresourcemanager.googleapis.com/v1/projects/eric-cs4215-fltk].\n",
      "Waiting for [operations/cp.8719614993913160474] to finish...done.              \n",
      "Enabling service [cloudapis.googleapis.com] on project [eric-cs4215-fltk]...\n",
      "Operation \"operations/acat.p2-357745681408-bca4138e-a10c-4c49-abc9-b4c7c29a92e4\" finished successfully.\n",
      "Updated property [core/project] to [eric-cs4215-fltk].\n",
      "ACCOUNT_ID            NAME          OPEN  MASTER_ACCOUNT_ID\n",
      "01A260-563FE5-2AAE64  我的结算帐号  True\n"
     ]
    }
   ],
   "source": [
    "alias gcloud=/home/yifan/.local/tools/google-cloud-sdk/bin/gcloud\n",
    "gcloud projects create $PROJECT_ID --set-as-default\n",
    "# gcloud config set project $PROJECT_ID\n",
    "gcloud beta billing accounts list # Copy the Account ID of the account"
   ]
  },
  {
   "cell_type": "markdown",
   "metadata": {
    "pycharm": {
     "name": "#%% md\n"
    }
   },
   "source": [
    "Copy the billing account identifier, e.g. `015594-41687F-092941`, and assign to the variable in the cell below"
   ]
  },
  {
   "cell_type": "code",
   "execution_count": 6,
   "metadata": {},
   "outputs": [],
   "source": [
    "##################\n",
    "### CHANGE ME! ###\n",
    "##################\n",
    "BILLING_ACCOUNT=\"015594-41687F-092941\""
   ]
  },
  {
   "cell_type": "markdown",
   "metadata": {
    "pycharm": {
     "name": "#%% md\n"
    }
   },
   "source": [
    "Setup billing and enable services, this will allow us to create a GKE cluster (Google managed Kubernetes cluster), and push and pull containers to our private container repo."
   ]
  },
  {
   "cell_type": "code",
   "execution_count": 7,
   "metadata": {
    "pycharm": {
     "name": "#%%\n"
    }
   },
   "outputs": [
    {
     "name": "stdout",
     "output_type": "stream",
     "text": [
      "billingAccountName: billingAccounts/01A260-563FE5-2AAE64\n",
      "billingEnabled: true\n",
      "name: projects/eric-cs4215-fltk/billingInfo\n",
      "projectId: eric-cs4215-fltk\n",
      "Operation \"operations/acf.p2-357745681408-8f13bc8d-5f5d-47b0-aa34-1f19850f285d\" finished successfully.\n"
     ]
    }
   ],
   "source": [
    "# Setup billing to project\n",
    "gcloud beta billing projects link $PROJECT_ID --billing-account $BILLING_ACCOUNT\n",
    "# Enable services now billing is enabled\n",
    "gcloud services enable compute container --project $PROJECT_ID"
   ]
  },
  {
   "cell_type": "markdown",
   "metadata": {
    "pycharm": {
     "name": "#%% md\n"
    }
   },
   "source": [
    "## Creating a service-account\n",
    "\n",
    "Create service account that has the minimum set of permissions for creating and managing a cluster. This service account\n",
    "will be used to create the cluster, and deploy the dependencies that we use.\n",
    "\n",
    "During the deployment we will make use of impersonation, to let *your* account utilize the service-account. For more information about this practise, see also [this](https://cloud.google.com/blog/topics/developers-practitioners/using-google-cloud-service-account-impersonation-your-terraform-code) blog by Google."
   ]
  },
  {
   "cell_type": "code",
   "execution_count": 10,
   "metadata": {},
   "outputs": [
    {
     "name": "stdout",
     "output_type": "stream",
     "text": [
      "Created service account [terraform-iam-service-account].\n",
      "Updated IAM policy for project [eric-cs4215-fltk].\n",
      "bindings:\n",
      "- members:\n",
      "  - serviceAccount:service-357745681408@compute-system.iam.gserviceaccount.com\n",
      "  role: roles/compute.serviceAgent\n",
      "- members:\n",
      "  - serviceAccount:terraform-iam-service-account@eric-cs4215-fltk.iam.gserviceaccount.com\n",
      "  role: roles/compute.viewer\n",
      "- members:\n",
      "  - serviceAccount:service-357745681408@container-engine-robot.iam.gserviceaccount.com\n",
      "  role: roles/container.serviceAgent\n",
      "- members:\n",
      "  - serviceAccount:service-357745681408@containerregistry.iam.gserviceaccount.com\n",
      "  role: roles/containerregistry.ServiceAgent\n",
      "- members:\n",
      "  - serviceAccount:357745681408-compute@developer.gserviceaccount.com\n",
      "  - serviceAccount:357745681408@cloudservices.gserviceaccount.com\n",
      "  role: roles/editor\n",
      "- members:\n",
      "  - user:ericyfsong@gmail.com\n",
      "  role: roles/owner\n",
      "- members:\n",
      "  - serviceAccount:service-357745681408@gcp-sa-pubsub.iam.gserviceaccount.com\n",
      "  role: roles/pubsub.serviceAgent\n",
      "etag: BwXoyRTHKQ0=\n",
      "version: 1\n",
      "Updated IAM policy for project [eric-cs4215-fltk].\n",
      "bindings:\n",
      "- members:\n",
      "  - serviceAccount:service-357745681408@compute-system.iam.gserviceaccount.com\n",
      "  role: roles/compute.serviceAgent\n",
      "- members:\n",
      "  - serviceAccount:terraform-iam-service-account@eric-cs4215-fltk.iam.gserviceaccount.com\n",
      "  role: roles/compute.viewer\n",
      "- members:\n",
      "  - serviceAccount:service-357745681408@container-engine-robot.iam.gserviceaccount.com\n",
      "  role: roles/container.serviceAgent\n",
      "- members:\n",
      "  - serviceAccount:service-357745681408@containerregistry.iam.gserviceaccount.com\n",
      "  role: roles/containerregistry.ServiceAgent\n",
      "- members:\n",
      "  - serviceAccount:357745681408-compute@developer.gserviceaccount.com\n",
      "  - serviceAccount:357745681408@cloudservices.gserviceaccount.com\n",
      "  role: roles/editor\n",
      "- members:\n",
      "  - user:ericyfsong@gmail.com\n",
      "  role: roles/owner\n",
      "- members:\n",
      "  - serviceAccount:service-357745681408@gcp-sa-pubsub.iam.gserviceaccount.com\n",
      "  role: roles/pubsub.serviceAgent\n",
      "- members:\n",
      "  - serviceAccount:terraform-iam-service-account@eric-cs4215-fltk.iam.gserviceaccount.com\n",
      "  role: roles/storage.objectViewer\n",
      "etag: BwXoyRTu75Q=\n",
      "version: 1\n",
      "Updated IAM policy for project [eric-cs4215-fltk].\n",
      "bindings:\n",
      "- members:\n",
      "  - serviceAccount:terraform-iam-service-account@eric-cs4215-fltk.iam.gserviceaccount.com\n",
      "  role: roles/compute.networkAdmin\n",
      "- members:\n",
      "  - serviceAccount:service-357745681408@compute-system.iam.gserviceaccount.com\n",
      "  role: roles/compute.serviceAgent\n",
      "- members:\n",
      "  - serviceAccount:terraform-iam-service-account@eric-cs4215-fltk.iam.gserviceaccount.com\n",
      "  role: roles/compute.viewer\n",
      "- members:\n",
      "  - serviceAccount:service-357745681408@container-engine-robot.iam.gserviceaccount.com\n",
      "  role: roles/container.serviceAgent\n",
      "- members:\n",
      "  - serviceAccount:service-357745681408@containerregistry.iam.gserviceaccount.com\n",
      "  role: roles/containerregistry.ServiceAgent\n",
      "- members:\n",
      "  - serviceAccount:357745681408-compute@developer.gserviceaccount.com\n",
      "  - serviceAccount:357745681408@cloudservices.gserviceaccount.com\n",
      "  role: roles/editor\n",
      "- members:\n",
      "  - user:ericyfsong@gmail.com\n",
      "  role: roles/owner\n",
      "- members:\n",
      "  - serviceAccount:service-357745681408@gcp-sa-pubsub.iam.gserviceaccount.com\n",
      "  role: roles/pubsub.serviceAgent\n",
      "- members:\n",
      "  - serviceAccount:terraform-iam-service-account@eric-cs4215-fltk.iam.gserviceaccount.com\n",
      "  role: roles/storage.objectViewer\n",
      "etag: BwXoyRUX3cM=\n",
      "version: 1\n",
      "Updated IAM policy for project [eric-cs4215-fltk].\n",
      "bindings:\n",
      "- members:\n",
      "  - serviceAccount:terraform-iam-service-account@eric-cs4215-fltk.iam.gserviceaccount.com\n",
      "  role: roles/compute.networkAdmin\n",
      "- members:\n",
      "  - serviceAccount:terraform-iam-service-account@eric-cs4215-fltk.iam.gserviceaccount.com\n",
      "  role: roles/compute.securityAdmin\n",
      "- members:\n",
      "  - serviceAccount:service-357745681408@compute-system.iam.gserviceaccount.com\n",
      "  role: roles/compute.serviceAgent\n",
      "- members:\n",
      "  - serviceAccount:terraform-iam-service-account@eric-cs4215-fltk.iam.gserviceaccount.com\n",
      "  role: roles/compute.viewer\n",
      "- members:\n",
      "  - serviceAccount:service-357745681408@container-engine-robot.iam.gserviceaccount.com\n",
      "  role: roles/container.serviceAgent\n",
      "- members:\n",
      "  - serviceAccount:service-357745681408@containerregistry.iam.gserviceaccount.com\n",
      "  role: roles/containerregistry.ServiceAgent\n",
      "- members:\n",
      "  - serviceAccount:357745681408-compute@developer.gserviceaccount.com\n",
      "  - serviceAccount:357745681408@cloudservices.gserviceaccount.com\n",
      "  role: roles/editor\n",
      "- members:\n",
      "  - user:ericyfsong@gmail.com\n",
      "  role: roles/owner\n",
      "- members:\n",
      "  - serviceAccount:service-357745681408@gcp-sa-pubsub.iam.gserviceaccount.com\n",
      "  role: roles/pubsub.serviceAgent\n",
      "- members:\n",
      "  - serviceAccount:terraform-iam-service-account@eric-cs4215-fltk.iam.gserviceaccount.com\n",
      "  role: roles/storage.objectViewer\n",
      "etag: BwXoyRU5XoM=\n",
      "version: 1\n",
      "Updated IAM policy for project [eric-cs4215-fltk].\n",
      "bindings:\n",
      "- members:\n",
      "  - serviceAccount:terraform-iam-service-account@eric-cs4215-fltk.iam.gserviceaccount.com\n",
      "  role: roles/compute.networkAdmin\n",
      "- members:\n",
      "  - serviceAccount:terraform-iam-service-account@eric-cs4215-fltk.iam.gserviceaccount.com\n",
      "  role: roles/compute.securityAdmin\n",
      "- members:\n",
      "  - serviceAccount:service-357745681408@compute-system.iam.gserviceaccount.com\n",
      "  role: roles/compute.serviceAgent\n",
      "- members:\n",
      "  - serviceAccount:terraform-iam-service-account@eric-cs4215-fltk.iam.gserviceaccount.com\n",
      "  role: roles/compute.viewer\n",
      "- members:\n",
      "  - serviceAccount:terraform-iam-service-account@eric-cs4215-fltk.iam.gserviceaccount.com\n",
      "  role: roles/container.clusterViewer\n",
      "- members:\n",
      "  - serviceAccount:service-357745681408@container-engine-robot.iam.gserviceaccount.com\n",
      "  role: roles/container.serviceAgent\n",
      "- members:\n",
      "  - serviceAccount:service-357745681408@containerregistry.iam.gserviceaccount.com\n",
      "  role: roles/containerregistry.ServiceAgent\n",
      "- members:\n",
      "  - serviceAccount:357745681408-compute@developer.gserviceaccount.com\n",
      "  - serviceAccount:357745681408@cloudservices.gserviceaccount.com\n",
      "  role: roles/editor\n",
      "- members:\n",
      "  - user:ericyfsong@gmail.com\n",
      "  role: roles/owner\n",
      "- members:\n",
      "  - serviceAccount:service-357745681408@gcp-sa-pubsub.iam.gserviceaccount.com\n",
      "  role: roles/pubsub.serviceAgent\n",
      "- members:\n",
      "  - serviceAccount:terraform-iam-service-account@eric-cs4215-fltk.iam.gserviceaccount.com\n",
      "  role: roles/storage.objectViewer\n",
      "etag: BwXoyRVhOqk=\n",
      "version: 1\n",
      "Updated IAM policy for project [eric-cs4215-fltk].\n",
      "bindings:\n",
      "- members:\n",
      "  - serviceAccount:terraform-iam-service-account@eric-cs4215-fltk.iam.gserviceaccount.com\n",
      "  role: roles/compute.networkAdmin\n",
      "- members:\n",
      "  - serviceAccount:terraform-iam-service-account@eric-cs4215-fltk.iam.gserviceaccount.com\n",
      "  role: roles/compute.securityAdmin\n",
      "- members:\n",
      "  - serviceAccount:service-357745681408@compute-system.iam.gserviceaccount.com\n",
      "  role: roles/compute.serviceAgent\n",
      "- members:\n",
      "  - serviceAccount:terraform-iam-service-account@eric-cs4215-fltk.iam.gserviceaccount.com\n",
      "  role: roles/compute.viewer\n",
      "- members:\n",
      "  - serviceAccount:terraform-iam-service-account@eric-cs4215-fltk.iam.gserviceaccount.com\n",
      "  role: roles/container.clusterAdmin\n",
      "- members:\n",
      "  - serviceAccount:terraform-iam-service-account@eric-cs4215-fltk.iam.gserviceaccount.com\n",
      "  role: roles/container.clusterViewer\n",
      "- members:\n",
      "  - serviceAccount:service-357745681408@container-engine-robot.iam.gserviceaccount.com\n",
      "  role: roles/container.serviceAgent\n",
      "- members:\n",
      "  - serviceAccount:service-357745681408@containerregistry.iam.gserviceaccount.com\n",
      "  role: roles/containerregistry.ServiceAgent\n",
      "- members:\n",
      "  - serviceAccount:357745681408-compute@developer.gserviceaccount.com\n",
      "  - serviceAccount:357745681408@cloudservices.gserviceaccount.com\n",
      "  role: roles/editor\n",
      "- members:\n",
      "  - user:ericyfsong@gmail.com\n",
      "  role: roles/owner\n",
      "- members:\n",
      "  - serviceAccount:service-357745681408@gcp-sa-pubsub.iam.gserviceaccount.com\n",
      "  role: roles/pubsub.serviceAgent\n",
      "- members:\n",
      "  - serviceAccount:terraform-iam-service-account@eric-cs4215-fltk.iam.gserviceaccount.com\n",
      "  role: roles/storage.objectViewer\n",
      "etag: BwXoyRWEKas=\n",
      "version: 1\n",
      "Updated IAM policy for project [eric-cs4215-fltk].\n",
      "bindings:\n",
      "- members:\n",
      "  - serviceAccount:terraform-iam-service-account@eric-cs4215-fltk.iam.gserviceaccount.com\n",
      "  role: roles/compute.networkAdmin\n",
      "- members:\n",
      "  - serviceAccount:terraform-iam-service-account@eric-cs4215-fltk.iam.gserviceaccount.com\n",
      "  role: roles/compute.securityAdmin\n",
      "- members:\n",
      "  - serviceAccount:service-357745681408@compute-system.iam.gserviceaccount.com\n",
      "  role: roles/compute.serviceAgent\n",
      "- members:\n",
      "  - serviceAccount:terraform-iam-service-account@eric-cs4215-fltk.iam.gserviceaccount.com\n",
      "  role: roles/compute.viewer\n",
      "- members:\n",
      "  - serviceAccount:terraform-iam-service-account@eric-cs4215-fltk.iam.gserviceaccount.com\n",
      "  role: roles/container.clusterAdmin\n",
      "- members:\n",
      "  - serviceAccount:terraform-iam-service-account@eric-cs4215-fltk.iam.gserviceaccount.com\n",
      "  role: roles/container.clusterViewer\n",
      "- members:\n",
      "  - serviceAccount:terraform-iam-service-account@eric-cs4215-fltk.iam.gserviceaccount.com\n",
      "  role: roles/container.developer\n",
      "- members:\n",
      "  - serviceAccount:service-357745681408@container-engine-robot.iam.gserviceaccount.com\n",
      "  role: roles/container.serviceAgent\n",
      "- members:\n",
      "  - serviceAccount:service-357745681408@containerregistry.iam.gserviceaccount.com\n",
      "  role: roles/containerregistry.ServiceAgent\n",
      "- members:\n",
      "  - serviceAccount:357745681408-compute@developer.gserviceaccount.com\n",
      "  - serviceAccount:357745681408@cloudservices.gserviceaccount.com\n",
      "  role: roles/editor\n",
      "- members:\n",
      "  - user:ericyfsong@gmail.com\n",
      "  role: roles/owner\n",
      "- members:\n",
      "  - serviceAccount:service-357745681408@gcp-sa-pubsub.iam.gserviceaccount.com\n",
      "  role: roles/pubsub.serviceAgent\n",
      "- members:\n",
      "  - serviceAccount:terraform-iam-service-account@eric-cs4215-fltk.iam.gserviceaccount.com\n",
      "  role: roles/storage.objectViewer\n",
      "etag: BwXoyRWr6jo=\n",
      "version: 1\n",
      "Updated IAM policy for project [eric-cs4215-fltk].\n",
      "bindings:\n",
      "- members:\n",
      "  - serviceAccount:terraform-iam-service-account@eric-cs4215-fltk.iam.gserviceaccount.com\n",
      "  role: roles/compute.networkAdmin\n",
      "- members:\n",
      "  - serviceAccount:terraform-iam-service-account@eric-cs4215-fltk.iam.gserviceaccount.com\n",
      "  role: roles/compute.securityAdmin\n",
      "- members:\n",
      "  - serviceAccount:service-357745681408@compute-system.iam.gserviceaccount.com\n",
      "  role: roles/compute.serviceAgent\n",
      "- members:\n",
      "  - serviceAccount:terraform-iam-service-account@eric-cs4215-fltk.iam.gserviceaccount.com\n",
      "  role: roles/compute.viewer\n",
      "- members:\n",
      "  - serviceAccount:terraform-iam-service-account@eric-cs4215-fltk.iam.gserviceaccount.com\n",
      "  role: roles/container.clusterAdmin\n",
      "- members:\n",
      "  - serviceAccount:terraform-iam-service-account@eric-cs4215-fltk.iam.gserviceaccount.com\n",
      "  role: roles/container.clusterViewer\n",
      "- members:\n",
      "  - serviceAccount:terraform-iam-service-account@eric-cs4215-fltk.iam.gserviceaccount.com\n",
      "  role: roles/container.developer\n",
      "- members:\n",
      "  - serviceAccount:service-357745681408@container-engine-robot.iam.gserviceaccount.com\n",
      "  role: roles/container.serviceAgent\n",
      "- members:\n",
      "  - serviceAccount:service-357745681408@containerregistry.iam.gserviceaccount.com\n",
      "  role: roles/containerregistry.ServiceAgent\n",
      "- members:\n",
      "  - serviceAccount:357745681408-compute@developer.gserviceaccount.com\n",
      "  - serviceAccount:357745681408@cloudservices.gserviceaccount.com\n",
      "  role: roles/editor\n",
      "- members:\n",
      "  - serviceAccount:terraform-iam-service-account@eric-cs4215-fltk.iam.gserviceaccount.com\n",
      "  role: roles/iam.serviceAccountAdmin\n",
      "- members:\n",
      "  - user:ericyfsong@gmail.com\n",
      "  role: roles/owner\n",
      "- members:\n",
      "  - serviceAccount:service-357745681408@gcp-sa-pubsub.iam.gserviceaccount.com\n",
      "  role: roles/pubsub.serviceAgent\n",
      "- members:\n",
      "  - serviceAccount:terraform-iam-service-account@eric-cs4215-fltk.iam.gserviceaccount.com\n",
      "  role: roles/storage.objectViewer\n",
      "etag: BwXoyRXTcOg=\n",
      "version: 1\n",
      "Updated IAM policy for project [eric-cs4215-fltk].\n",
      "bindings:\n",
      "- members:\n",
      "  - serviceAccount:terraform-iam-service-account@eric-cs4215-fltk.iam.gserviceaccount.com\n",
      "  role: roles/compute.networkAdmin\n",
      "- members:\n",
      "  - serviceAccount:terraform-iam-service-account@eric-cs4215-fltk.iam.gserviceaccount.com\n",
      "  role: roles/compute.securityAdmin\n",
      "- members:\n",
      "  - serviceAccount:service-357745681408@compute-system.iam.gserviceaccount.com\n",
      "  role: roles/compute.serviceAgent\n",
      "- members:\n",
      "  - serviceAccount:terraform-iam-service-account@eric-cs4215-fltk.iam.gserviceaccount.com\n",
      "  role: roles/compute.viewer\n",
      "- members:\n",
      "  - serviceAccount:terraform-iam-service-account@eric-cs4215-fltk.iam.gserviceaccount.com\n",
      "  role: roles/container.clusterAdmin\n",
      "- members:\n",
      "  - serviceAccount:terraform-iam-service-account@eric-cs4215-fltk.iam.gserviceaccount.com\n",
      "  role: roles/container.clusterViewer\n",
      "- members:\n",
      "  - serviceAccount:terraform-iam-service-account@eric-cs4215-fltk.iam.gserviceaccount.com\n",
      "  role: roles/container.developer\n",
      "- members:\n",
      "  - serviceAccount:service-357745681408@container-engine-robot.iam.gserviceaccount.com\n",
      "  role: roles/container.serviceAgent\n",
      "- members:\n",
      "  - serviceAccount:service-357745681408@containerregistry.iam.gserviceaccount.com\n",
      "  role: roles/containerregistry.ServiceAgent\n",
      "- members:\n",
      "  - serviceAccount:357745681408-compute@developer.gserviceaccount.com\n",
      "  - serviceAccount:357745681408@cloudservices.gserviceaccount.com\n",
      "  role: roles/editor\n",
      "- members:\n",
      "  - serviceAccount:terraform-iam-service-account@eric-cs4215-fltk.iam.gserviceaccount.com\n",
      "  role: roles/iam.serviceAccountAdmin\n",
      "- members:\n",
      "  - serviceAccount:terraform-iam-service-account@eric-cs4215-fltk.iam.gserviceaccount.com\n",
      "  role: roles/iam.serviceAccountUser\n",
      "- members:\n",
      "  - user:ericyfsong@gmail.com\n",
      "  role: roles/owner\n",
      "- members:\n",
      "  - serviceAccount:service-357745681408@gcp-sa-pubsub.iam.gserviceaccount.com\n",
      "  role: roles/pubsub.serviceAgent\n",
      "- members:\n",
      "  - serviceAccount:terraform-iam-service-account@eric-cs4215-fltk.iam.gserviceaccount.com\n",
      "  role: roles/storage.objectViewer\n",
      "etag: BwXoyRX5sWI=\n",
      "version: 1\n"
     ]
    }
   ],
   "source": [
    "# Helper function to quickly enable gcp roles, assumes $PRIVILEGED_ACCOUNT_ID and $PROJECT_ID to be set.\n",
    "function enable_gcp_role () {\n",
    "  ROLE=$1\n",
    "  gcloud projects add-iam-policy-binding \\\n",
    "    $PROJECT_ID \\\n",
    "    --member=\"serviceAccount:$PRIVILEGED_ACCOUNT_ID\" \\\n",
    "    --role=\"roles/$ROLE\"\n",
    "}\n",
    "\n",
    "# Create service-account\n",
    "# gcloud iam service-accounts create $ACCOUNT_ID --display-name=\"Terraform service account\" --project ${PROJECT_ID}\n",
    "\n",
    "# Allow the service account to use the the set of roles below.\n",
    "enable_gcp_role \"compute.viewer\"                # Allow the service account to see active resources\n",
    "enable_gcp_role \"storage.objectViewer\"          # Allow the service account/managed resources to pull from gcr.io (your code)\n",
    "enable_gcp_role \"compute.networkAdmin\"          # Needed for setting up private network\n",
    "enable_gcp_role \"compute.securityAdmin\"         # Needed for GKE\n",
    "enable_gcp_role \"container.clusterViewer\"       # Needed for GKE\n",
    "enable_gcp_role \"container.clusterAdmin\"        # Needed for GKE\n",
    "enable_gcp_role \"container.developer\"           # Needed for GKE\n",
    "enable_gcp_role \"iam.serviceAccountAdmin\"       # Needed for GKE\n",
    "enable_gcp_role \"iam.serviceAccountUser\"        # Needed for GKE\n"
   ]
  },
  {
   "cell_type": "markdown",
   "metadata": {
    "pycharm": {
     "name": "#%% md\n"
    }
   },
   "source": [
    "## Enable impersonation\n",
    "With the service account created, we must enable impersonation, to allow the main account of the project to make use of the service account. For more information see also the [`add-iam-policy-binding`](https://cloud.google.com/sdk/gcloud/reference/iam/service-accounts/add-iam-policy-binding) reference.\n",
    "\n",
    "Assign your `google_account` mail to the `OWNER_MAIL` variable, and run the command box below."
   ]
  },
  {
   "cell_type": "code",
   "execution_count": 11,
   "metadata": {},
   "outputs": [
    {
     "name": "stdout",
     "output_type": "stream",
     "text": [
      "Updated IAM policy for serviceAccount [terraform-iam-service-account@eric-cs4215-fltk.iam.gserviceaccount.com].\n",
      "bindings:\n",
      "- members:\n",
      "  - user:ericyfsong@gmail.com\n",
      "  role: roles/iam.serviceAccountTokenCreator\n",
      "etag: BwXoyRYUPXs=\n",
      "version: 1\n"
     ]
    }
   ],
   "source": [
    "##################\n",
    "### CHANGE ME! ###\n",
    "##################\n",
    "OWNER_MAIL=\"mygoogleaccount@gmail.com\"\n",
    "\n",
    "gcloud iam service-accounts add-iam-policy-binding $PRIVILEGED_ACCOUNT_ID \\\n",
    " --member=\"user:$OWNER_MAIL\" \\\n",
    " --role=roles/iam.serviceAccountTokenCreator \\\n",
    " --project $PROJECT_ID"
   ]
  },
  {
   "cell_type": "markdown",
   "metadata": {
    "pycharm": {
     "name": "#%% md\n"
    }
   },
   "source": [
    "To enable using your account's credentials, run the command below. This will open in a new tab/open the link that is displayed. Afterwards you can use your own credentials to impersonate the service account. \n",
    "\n",
    "You can, for example, also allow other google users (such as project members) to work with your cluster in this way."
   ]
  },
  {
   "cell_type": "code",
   "execution_count": 12,
   "metadata": {
    "pycharm": {
     "name": "#%%\n"
    }
   },
   "outputs": [
    {
     "name": "stdout",
     "output_type": "stream",
     "text": [
      "Your browser has been opened to visit:\n",
      "\n",
      "    https://accounts.google.com/o/oauth2/auth?response_type=code&client_id=764086051850-6qr4p6gpi6hn506pt8ejuq83di341hur.apps.googleusercontent.com&redirect_uri=http%3A%2F%2Flocalhost%3A8085%2F&scope=openid+https%3A%2F%2Fwww.googleapis.com%2Fauth%2Fuserinfo.email+https%3A%2F%2Fwww.googleapis.com%2Fauth%2Fcloud-platform+https%3A%2F%2Fwww.googleapis.com%2Fauth%2Fsqlservice.login+https%3A%2F%2Fwww.googleapis.com%2Fauth%2Faccounts.reauth&state=PTOYUlOzaPv7wIBBRkpiH71eTHIeFP&access_type=offline&code_challenge=0G73vrz2HbceJYnxUay2qKuTdhCe7uJoQH6BmTJ_kkc&code_challenge_method=S256\n",
      "\n",
      "Opening in existing browser session.\n",
      "\n",
      "Credentials saved to file: [/home/yifan/.config/gcloud/application_default_credentials.json]\n",
      "\n",
      "These credentials will be used by any library that requests Application Default Credentials (ADC).\n",
      "\n",
      "Quota project \"eric-cs4215-fltk\" was added to ADC which can be used by Google client libraries for billing and quota. Note that some services may still bill the project owning the resource.\n"
     ]
    }
   ],
   "source": [
    "gcloud auth application-default login"
   ]
  },
  {
   "cell_type": "markdown",
   "metadata": {
    "pycharm": {
     "name": "#%% md\n"
    }
   },
   "source": [
    "## Creating a Google managed cluster (GKE)\n",
    "To create the cluster, first change the active directory to the `terraform-gke` directory.\n",
    "\n",
    "⚠️ Creating a cluster will incur billing cost on your project, by default the cluster will be small to minimize costs during this tutorial. Forgetting to `destroy` or scale down the cluster may result in quickly spending your academic coupon.\n",
    "\n",
    "Init the directory, to initialize the Terraform module."
   ]
  },
  {
   "cell_type": "code",
   "execution_count": null,
   "metadata": {
    "pycharm": {
     "name": "#%%\n"
    }
   },
   "outputs": [],
   "source": [
    "terraform -chdir=$TERRAFORM_GKE_DIR init "
   ]
  },
  {
   "cell_type": "markdown",
   "metadata": {
    "pycharm": {
     "name": "#%% md\n"
    }
   },
   "source": [
    "Next, we can check whether we can create a cluster. No warnings or errors should occur during this process. It may take a while to complete.\n",
    "\n",
    "> ⚠️ We provide the project_id variable from `terraform/terraform-gke` manually, and also change the default value.\n",
    "\n",
    "⁉️ If the command below does not complete successfully, e.g. after raising a `403` error, make sure that you have successfully created the project with `gcloud` earlier.\n"
   ]
  },
  {
   "cell_type": "code",
   "execution_count": null,
   "metadata": {
    "pycharm": {
     "name": "#%%\n"
    }
   },
   "outputs": [],
   "source": [
    "terraform -chdir=$TERRAFORM_GKE_DIR plan -var project_id=$PROJECT_ID"
   ]
  },
  {
   "cell_type": "markdown",
   "metadata": {
    "pycharm": {
     "name": "#%% md\n"
    }
   },
   "source": [
    "When the previous command completes successfully, we can start the deployment. Depending on any changes you may have done, this might take a while.\n",
    "\n",
    "By default, this will create a private zonal cluster consisting of two node pools.\n",
    "\n",
    "> ⚠️ A regional cluster (multi-zonal) will incur an additional fee of \\\\$ 0.10 /hour per managed (GKE) cluster. The **first** zonal cluster is free of this charge.\n",
    "\n",
    "> ⚠️ By default spot/preemptive nodes are disabled. You can experiment by setting `spot` to true in the `tf` files. Note, however, that the default implementations provided in the testbed do not allow for recovery from getting spun down and rescheduled. Moreover, this may result in poor availability during busy hours in the region in which you deploy your cluster.\n"
   ]
  },
  {
   "cell_type": "code",
   "execution_count": null,
   "metadata": {
    "pycharm": {
     "name": "#%%\n"
    }
   },
   "outputs": [],
   "source": [
    "terraform -chdir=$TERRAFORM_GKE_DIR apply -auto-approve -var project_id=$PROJECT_ID"
   ]
  },
  {
   "cell_type": "markdown",
   "metadata": {
    "pycharm": {
     "name": "#%% md\n"
    }
   },
   "source": [
    "Next, we add cluster credentials (so you can interact with the cluster through `kubectl` an `helm`)."
   ]
  },
  {
   "cell_type": "code",
   "execution_count": null,
   "metadata": {
    "pycharm": {
     "name": "#%%\n"
    }
   },
   "outputs": [],
   "source": [
    "# Add credentials for interacting with cluster via kubectl\n",
    "gcloud container clusters get-credentials $CLUSTER_NAME --region $REGION --project $PROJECT_ID"
   ]
  },
  {
   "cell_type": "markdown",
   "metadata": {
    "pycharm": {
     "name": "#%% md\n"
    }
   },
   "source": [
    "⚠️ The cluster by default does not contain any nodes in the node pools, the `initial_node_count` is set to 0.\n",
    "\n",
    "Lastly, we need to scale up the cluster, as by default we create a cluster with nodepools of size 0."
   ]
  },
  {
   "cell_type": "code",
   "execution_count": null,
   "metadata": {
    "pycharm": {
     "name": "#%%\n"
    }
   },
   "outputs": [],
   "source": [
    "###\n",
    "### ! CHANGE ME\n",
    "###\n",
    "MAX_NUM_NODES=2\n",
    "\n",
    "gcloud container clusters update $CLUSTER_NAME --node-pool $DEFAULT_POOL \\\n",
    "    --no-enable-autoscaling --region $REGION --quiet\n",
    "    \n",
    "# The high performance node will scale up automatically whenever the workloads are deployed\n",
    "gcloud container clusters update $CLUSTER_NAME --node-pool $EXPERIMENT_POOL \\\n",
    "    --enable-autoscaling --min-nodes=0 --max-nodes=$MAX_NUM_NODES --region $REGION --quiet\n",
    "\n",
    "gcloud container clusters resize $CLUSTER_NAME --node-pool $DEFAULT_POOL \\\n",
    "    --num-nodes 1 --region $REGION --quiet\n"
   ]
  },
  {
   "cell_type": "markdown",
   "metadata": {
    "pycharm": {
     "name": "#%% md\n"
    }
   },
   "source": [
    "### Changing deployment\n",
    "\n",
    "To save cost, or run different experiments, you might want to change the configuration of your cluster. This can be achieved by modifying the cluster configuration in the [`terraform-gke/main.tf`](../terraform/terraform-gke/main.tf) configuration file. You can change the default node-pools, create additional node pools with taints (to allow for scheduling on specific nodes/pools) and much more.\n",
    "\n",
    "After finishing your changes, simply run the following commands\n",
    "\n",
    "```bash\n",
    "# Use `plan` to check your configuration\n",
    "terraform plan\n",
    "# Check to see if your changes are as expected, terraform will show what will be created/removed.\n",
    "\n",
    "# If the changes are as you expect, apply the changes.\n",
    "terraform apply #-auto-approve\n",
    "```\n",
    "\n",
    "Depending on the number of changes, this may take some time."
   ]
  },
  {
   "cell_type": "markdown",
   "metadata": {
    "pycharm": {
     "name": "#%% md\n"
    }
   },
   "source": [
    "## Installing dependencies\n",
    "Lastly, we need to install the dependencies on our cluster. First change the directories, and then run the `init`, `plan` and `apply` commands as we did for creating the GKE cluster.\n",
    "\n",
    "Init the directory, to initialize the Terraform module."
   ]
  },
  {
   "cell_type": "code",
   "execution_count": null,
   "metadata": {
    "pycharm": {
     "name": "#%%\n"
    }
   },
   "outputs": [],
   "source": [
    "terraform -chdir=$TERRAFORM_DEPENDENCIES_DIR init -reconfigure"
   ]
  },
  {
   "cell_type": "markdown",
   "metadata": {
    "pycharm": {
     "name": "#%% md\n"
    }
   },
   "source": [
    "Check to see if we can plan the deployment. This will setup the following:\n",
    "\n",
    "* Kubeflow training operator (used to deploy and manage PyTorchTrainJobs programmatically)\n",
    "* NFS-provisioner (used to enable logging on a persistent `ReadWriteMany` PVC in the cluster)\n"
   ]
  },
  {
   "cell_type": "code",
   "execution_count": null,
   "metadata": {
    "pycharm": {
     "name": "#%%\n"
    }
   },
   "outputs": [],
   "source": [
    "terraform -chdir=$TERRAFORM_DEPENDENCIES_DIR plan -var project_id=$PROJECT_ID"
   ]
  },
  {
   "cell_type": "markdown",
   "metadata": {
    "pycharm": {
     "name": "#%% md\n"
    }
   },
   "source": [
    "When the previous command completes successfully, we can start the deployment. This will install the NFS provisioner and Kubeflow Training Operator dependencies\n"
   ]
  },
  {
   "cell_type": "code",
   "execution_count": null,
   "metadata": {
    "pycharm": {
     "name": "#%%\n"
    }
   },
   "outputs": [],
   "source": [
    "terraform -chdir=$TERRAFORM_DEPENDENCIES_DIR apply -auto-approve -var project_id=$PROJECT_ID"
   ]
  },
  {
   "cell_type": "markdown",
   "source": [
    "## Deploying extractor\n",
    "\n",
    "Lastly, we deploy the extractor pod, which also provides PVCs which can be used for artifact retrieval.\n",
    "\n",
    "Retrieval can be done by running\n",
    "\n",
    "```bash\n",
    "EXTRACTOR_POD_NAME=$(kubectl get pods -n test -l \"app.kubernetes.io/name=fltk.extractor\" -o jsonpath=\"{.items[0].metadata.name}\")\n",
    "kubectl cp -n test $EXTRACTOR_POD_NAME:/opt/federation-lab/logging ./logging\n",
    "```\n",
    "\n",
    "For copying from the extractor path `/opt/federation-lab/logging` to a directory locally named `logging`.\n",
    "\n",
    "First build the docker container, following the instructions of the [readme](https://github.com/JMGaljaard/fltk-testbed#creating-and-uploading-docker-container).\n",
    "\n",
    "\n",
    "N.B. Make sure to have setup a working authentication provider for docker, such that you can push to your repository."
   ],
   "metadata": {
    "collapsed": false,
    "pycharm": {
     "name": "#%% md\n"
    }
   },
   "outputs": []
  },
  {
   "cell_type": "markdown",
   "source": [
    "Run this in a terminal in the content-root directory (so `fltk-testbed` if the project name was not altered).\n",
    "```bash\n",
    "python3 -m venv venv\n",
    "source venv\n",
    "pip3 install -r requirements-cpu.txt\n",
    "python3 -m fltk extractor configs/example_cloud_experiment.json\n",
    "```\n",
    "\n",
    "Make sure to have run `gcloud auth configure-docker` in an external terminal.\n",
    "\n",
    "Make sure to allow docker to build/push/run without `sudo` [link](https://cloud.google.com/artifact-registry/docs/docker/authentication).\n"
   ],
   "metadata": {
    "collapsed": false,
    "pycharm": {
     "name": "#%% md\n"
    }
   }
  },
  {
   "cell_type": "code",
   "execution_count": null,
   "outputs": [],
   "source": [
    "# Build the docker container with buildkit. Make sure you have Docker Desktop running on Windows/MacOS\n",
    "DOCKER_BUILDKIT=1 docker build --platform linux/amd64 ../ --tag gcr.io/$PROJECT_ID/fltk\n",
    "docker push gcr.io/<project-id>/fltk"
   ],
   "metadata": {
    "collapsed": false,
    "pycharm": {
     "name": "#%%\n"
    }
   }
  },
  {
   "cell_type": "code",
   "execution_count": 32,
   "outputs": [
    {
     "name": "stdout",
     "output_type": "stream",
     "text": [
      "\u001B[0m\u001B[1mdata.kustomization_build.training_operator: Reading...\u001B[0m\u001B[0m\n",
      "\u001B[0m\u001B[1mhelm_release.nfs_client_provisioner: Refreshing state... [id=nfs-server]\u001B[0m\n",
      "\u001B[0m\u001B[1mdata.google_service_account_access_token.default: Reading...\u001B[0m\u001B[0m\n",
      "\u001B[0m\u001B[1mdata.google_service_account_access_token.default: Read complete after 1s [id=projects/-/serviceAccounts/terraform-iam-service-account@eric-cs4215-fltk.iam.gserviceaccount.com]\u001B[0m\n",
      "\u001B[0m\u001B[1mdata.google_client_config.default: Reading...\u001B[0m\u001B[0m\n",
      "\u001B[0m\u001B[1mdata.google_client_config.default: Read complete after 0s [id=projects/eric-cs4215-fltk/regions//zones/]\u001B[0m\n",
      "\u001B[0m\u001B[1mdata.google_container_cluster.testbed_cluster: Reading...\u001B[0m\u001B[0m\n",
      "\u001B[0m\u001B[1mdata.kustomization_build.training_operator: Read complete after 3s [id=a294ea9a3d4f626ec1ec55aac66b4a486f682fe5dbec2eadf58d30baee14a8f66a3ec2674c0e2d9a40e7bc191f878f010393849f4581c6a4189bc41761abab89]\u001B[0m\n",
      "\u001B[0m\u001B[1mkustomization_resource.training_operator[\"_/Namespace/_/kubeflow\"]: Refreshing state... [id=ad40d91e-e00d-453b-abd1-06487037bb85]\u001B[0m\n",
      "\u001B[0m\u001B[1mkustomization_resource.training_operator[\"_/Service/kubeflow/training-operator\"]: Refreshing state... [id=55b151e6-2f10-4726-ae8e-a607f2939356]\u001B[0m\n",
      "\u001B[0m\u001B[1mkustomization_resource.training_operator[\"_/ServiceAccount/kubeflow/training-operator\"]: Refreshing state... [id=350e0d67-1e3b-4423-866f-69833cb55365]\u001B[0m\n",
      "\u001B[0m\u001B[1mkustomization_resource.training_operator[\"apps/Deployment/kubeflow/training-operator\"]: Refreshing state... [id=86b7ba04-c881-4284-bb38-dce3feb3ddbb]\u001B[0m\n",
      "\u001B[0m\u001B[1mkustomization_resource.training_operator[\"rbac.authorization.k8s.io/ClusterRoleBinding/_/training-operator\"]: Refreshing state... [id=0dfc99c0-5449-4221-9743-27a16120b596]\u001B[0m\n",
      "\u001B[0m\u001B[1mkustomization_resource.training_operator[\"apiextensions.k8s.io/CustomResourceDefinition/_/mxjobs.kubeflow.org\"]: Refreshing state... [id=2e234266-44b5-4b5c-bf01-00e817a74306]\u001B[0m\n",
      "\u001B[0m\u001B[1mkustomization_resource.training_operator[\"apiextensions.k8s.io/CustomResourceDefinition/_/xgboostjobs.kubeflow.org\"]: Refreshing state... [id=0e505b19-1a05-4e0e-871e-7d1a0370d035]\u001B[0m\n",
      "\u001B[0m\u001B[1mkustomization_resource.training_operator[\"apiextensions.k8s.io/CustomResourceDefinition/_/pytorchjobs.kubeflow.org\"]: Refreshing state... [id=91435562-3ec9-4f9c-967a-1df31a07743d]\u001B[0m\n",
      "\u001B[0m\u001B[1mdata.google_container_cluster.testbed_cluster: Read complete after 2s [id=projects/eric-cs4215-fltk/locations/us-central1-c/clusters/fltk-testbed-cluster]\u001B[0m\n",
      "\u001B[0m\u001B[1mkustomization_resource.training_operator[\"apiextensions.k8s.io/CustomResourceDefinition/_/mpijobs.kubeflow.org\"]: Refreshing state... [id=4e6f8449-4b66-4c3c-8bb1-ad7839d72a43]\u001B[0m\n",
      "\u001B[0m\u001B[1mkustomization_resource.training_operator[\"rbac.authorization.k8s.io/ClusterRole/_/training-operator\"]: Refreshing state... [id=a48094f9-dd69-496a-ad70-576eae79018b]\u001B[0m\n",
      "\u001B[0m\u001B[1mkustomization_resource.training_operator[\"apiextensions.k8s.io/CustomResourceDefinition/_/tfjobs.kubeflow.org\"]: Refreshing state... [id=a0538ba6-a8ca-4a49-b0c4-e79f972e5398]\u001B[0m\n",
      "\n",
      "Terraform used the selected providers to generate the following execution plan.\n",
      "Resource actions are indicated with the following symbols:\n",
      "\u001B[31m-\u001B[0m/\u001B[32m+\u001B[0m destroy and then create replacement\n",
      "\u001B[0m\n",
      "Terraform will perform the following actions:\n",
      "\n",
      "\u001B[1m  # helm_release.nfs_client_provisioner\u001B[0m is tainted, so must be \u001B[1m\u001B[31mreplaced\u001B[0m\u001B[0m\n",
      "\u001B[0m\u001B[31m-\u001B[0m/\u001B[32m+\u001B[0m\u001B[0m resource \"helm_release\" \"nfs_client_provisioner\" {\n",
      "      \u001B[33m~\u001B[0m \u001B[0m\u001B[1m\u001B[0mid\u001B[0m\u001B[0m                         = \"nfs-server\" \u001B[33m->\u001B[0m \u001B[0m(known after apply)\n",
      "      \u001B[32m+\u001B[0m \u001B[0m\u001B[1m\u001B[0mmanifest\u001B[0m\u001B[0m                   = (known after apply)\n",
      "      \u001B[33m~\u001B[0m \u001B[0m\u001B[1m\u001B[0mmetadata\u001B[0m\u001B[0m                   = [\n",
      "          \u001B[31m-\u001B[0m \u001B[0m{\n",
      "              \u001B[31m-\u001B[0m \u001B[0mapp_version = \"2.3.0\"\n",
      "              \u001B[31m-\u001B[0m \u001B[0mchart       = \"nfs-server-provisioner\"\n",
      "              \u001B[31m-\u001B[0m \u001B[0mname        = \"nfs-server\"\n",
      "              \u001B[31m-\u001B[0m \u001B[0mnamespace   = \"test\"\n",
      "              \u001B[31m-\u001B[0m \u001B[0mrevision    = 1\n",
      "              \u001B[31m-\u001B[0m \u001B[0mvalues      = jsonencode(\n",
      "                    {\n",
      "                      \u001B[31m-\u001B[0m \u001B[0maffinity     = {}\n",
      "                      \u001B[31m-\u001B[0m \u001B[0mextraArgs    = {}\n",
      "                      \u001B[31m-\u001B[0m \u001B[0mimage        = {\n",
      "                          \u001B[31m-\u001B[0m \u001B[0mpullPolicy = \"IfNotPresent\"\n",
      "                          \u001B[31m-\u001B[0m \u001B[0mrepository = \"k8s.gcr.io/sig-storage/nfs-provisioner\"\n",
      "                          \u001B[31m-\u001B[0m \u001B[0mtag        = \"v3.0.0\"\n",
      "                        }\n",
      "                      \u001B[31m-\u001B[0m \u001B[0mnodeSelector = {}\n",
      "                      \u001B[31m-\u001B[0m \u001B[0mpersistence  = {\n",
      "                          \u001B[31m-\u001B[0m \u001B[0maccessMode       = \"ReadWriteOnce\"\n",
      "                          \u001B[31m-\u001B[0m \u001B[0menabled          = true\n",
      "                          \u001B[31m-\u001B[0m \u001B[0msize             = \"50Gi\"\n",
      "                          \u001B[31m-\u001B[0m \u001B[0mstorageClassName = \"standard\"\n",
      "                        }\n",
      "                      \u001B[31m-\u001B[0m \u001B[0mrbac         = {\n",
      "                          \u001B[31m-\u001B[0m \u001B[0mcreate             = true\n",
      "                          \u001B[31m-\u001B[0m \u001B[0mserviceAccountName = \"default\"\n",
      "                        }\n",
      "                      \u001B[31m-\u001B[0m \u001B[0mreplicaCount = 1\n",
      "                      \u001B[31m-\u001B[0m \u001B[0mresources    = {}\n",
      "                      \u001B[31m-\u001B[0m \u001B[0mservice      = {\n",
      "                          \u001B[31m-\u001B[0m \u001B[0mexternalIPs  = []\n",
      "                          \u001B[31m-\u001B[0m \u001B[0mmountdPort   = 20048\n",
      "                          \u001B[31m-\u001B[0m \u001B[0mnfsPort      = 2049\n",
      "                          \u001B[31m-\u001B[0m \u001B[0mnlockmgrPort = 32803\n",
      "                          \u001B[31m-\u001B[0m \u001B[0mrpcbindPort  = 111\n",
      "                          \u001B[31m-\u001B[0m \u001B[0mrquotadPort  = 875\n",
      "                          \u001B[31m-\u001B[0m \u001B[0mstatdPort    = 662\n",
      "                          \u001B[31m-\u001B[0m \u001B[0mtype         = \"ClusterIP\"\n",
      "                        }\n",
      "                      \u001B[31m-\u001B[0m \u001B[0mstorageClass = {\n",
      "                          \u001B[31m-\u001B[0m \u001B[0mallowVolumeExpansion = true\n",
      "                          \u001B[31m-\u001B[0m \u001B[0mcreate               = true\n",
      "                          \u001B[31m-\u001B[0m \u001B[0mdefaultClass         = false\n",
      "                          \u001B[31m-\u001B[0m \u001B[0mmountOptions         = [\n",
      "                              \u001B[31m-\u001B[0m \u001B[0m\"vers=3\",\n",
      "                            ]\n",
      "                          \u001B[31m-\u001B[0m \u001B[0mname                 = \"nfs\"\n",
      "                          \u001B[31m-\u001B[0m \u001B[0mparameters           = {}\n",
      "                          \u001B[31m-\u001B[0m \u001B[0mreclaimPolicy        = \"Delete\"\n",
      "                        }\n",
      "                      \u001B[31m-\u001B[0m \u001B[0mtolerations  = []\n",
      "                    }\n",
      "                )\n",
      "              \u001B[31m-\u001B[0m \u001B[0mversion     = \"1.1.3\"\n",
      "            },\n",
      "        ] \u001B[33m->\u001B[0m \u001B[0m(known after apply)\n",
      "        \u001B[1m\u001B[0mname\u001B[0m\u001B[0m                       = \"nfs-server\"\n",
      "      \u001B[33m~\u001B[0m \u001B[0m\u001B[1m\u001B[0mstatus\u001B[0m\u001B[0m                     = \"failed\" \u001B[33m->\u001B[0m \u001B[0m\"deployed\"\n",
      "        \u001B[90m# (26 unchanged attributes hidden)\u001B[0m\u001B[0m\n",
      "    }\n",
      "\n",
      "\u001B[0m\u001B[1mPlan:\u001B[0m 1 to add, 0 to change, 1 to destroy.\n",
      "\u001B[0m\u001B[0m\u001B[1mhelm_release.nfs_client_provisioner: Destroying... [id=nfs-server]\u001B[0m\u001B[0m\n",
      "\u001B[0m\u001B[1mhelm_release.nfs_client_provisioner: Destruction complete after 9s\u001B[0m\n",
      "\u001B[0m\u001B[1mhelm_release.nfs_client_provisioner: Creating...\u001B[0m\u001B[0m\n",
      "\u001B[0m\u001B[1mhelm_release.nfs_client_provisioner: Still creating... [10s elapsed]\u001B[0m\u001B[0m\n",
      "\u001B[0m\u001B[1mhelm_release.nfs_client_provisioner: Still creating... [20s elapsed]\u001B[0m\u001B[0m\n",
      "\u001B[0m\u001B[1mhelm_release.nfs_client_provisioner: Still creating... [30s elapsed]\u001B[0m\u001B[0m\n",
      "\u001B[0m\u001B[1mhelm_release.nfs_client_provisioner: Still creating... [40s elapsed]\u001B[0m\u001B[0m\n",
      "\u001B[0m\u001B[1mhelm_release.nfs_client_provisioner: Still creating... [50s elapsed]\u001B[0m\u001B[0m\n",
      "\u001B[0m\u001B[1mhelm_release.nfs_client_provisioner: Still creating... [1m0s elapsed]\u001B[0m\u001B[0m\n",
      "\u001B[0m\u001B[1mhelm_release.nfs_client_provisioner: Still creating... [1m10s elapsed]\u001B[0m\u001B[0m\n",
      "\u001B[0m\u001B[1mhelm_release.nfs_client_provisioner: Still creating... [1m20s elapsed]\u001B[0m\u001B[0m\n",
      "\u001B[0m\u001B[1mhelm_release.nfs_client_provisioner: Still creating... [1m30s elapsed]\u001B[0m\u001B[0m\n",
      "\u001B[0m\u001B[1mhelm_release.nfs_client_provisioner: Still creating... [1m40s elapsed]\u001B[0m\u001B[0m\n",
      "\u001B[0m\u001B[1mhelm_release.nfs_client_provisioner: Still creating... [1m50s elapsed]\u001B[0m\u001B[0m\n",
      "\u001B[0m\u001B[1mhelm_release.nfs_client_provisioner: Still creating... [2m0s elapsed]\u001B[0m\u001B[0m\n",
      "\u001B[0m\u001B[1mhelm_release.nfs_client_provisioner: Still creating... [2m10s elapsed]\u001B[0m\u001B[0m\n",
      "\u001B[0m\u001B[1mhelm_release.nfs_client_provisioner: Still creating... [2m20s elapsed]\u001B[0m\u001B[0m\n",
      "\u001B[0m\u001B[1mhelm_release.nfs_client_provisioner: Still creating... [2m30s elapsed]\u001B[0m\u001B[0m\n",
      "\u001B[0m\u001B[1mhelm_release.nfs_client_provisioner: Still creating... [2m40s elapsed]\u001B[0m\u001B[0m\n",
      "\u001B[0m\u001B[1mhelm_release.nfs_client_provisioner: Still creating... [2m50s elapsed]\u001B[0m\u001B[0m\n",
      "\u001B[0m\u001B[1mhelm_release.nfs_client_provisioner: Still creating... [3m0s elapsed]\u001B[0m\u001B[0m\n",
      "\u001B[0m\u001B[1mhelm_release.nfs_client_provisioner: Still creating... [3m10s elapsed]\u001B[0m\u001B[0m\n",
      "\u001B[0m\u001B[1mhelm_release.nfs_client_provisioner: Still creating... [3m20s elapsed]\u001B[0m\u001B[0m\n",
      "\u001B[0m\u001B[1mhelm_release.nfs_client_provisioner: Still creating... [3m30s elapsed]\u001B[0m\u001B[0m\n",
      "\u001B[0m\u001B[1mhelm_release.nfs_client_provisioner: Still creating... [3m40s elapsed]\u001B[0m\u001B[0m\n",
      "\u001B[0m\u001B[1mhelm_release.nfs_client_provisioner: Still creating... [3m50s elapsed]\u001B[0m\u001B[0m\n",
      "\u001B[0m\u001B[1mhelm_release.nfs_client_provisioner: Still creating... [4m0s elapsed]\u001B[0m\u001B[0m\n",
      "\u001B[0m\u001B[1mhelm_release.nfs_client_provisioner: Still creating... [4m10s elapsed]\u001B[0m\u001B[0m\n",
      "\u001B[0m\u001B[1mhelm_release.nfs_client_provisioner: Still creating... [4m20s elapsed]\u001B[0m\u001B[0m\n",
      "\u001B[0m\u001B[1mhelm_release.nfs_client_provisioner: Still creating... [4m30s elapsed]\u001B[0m\u001B[0m\n",
      "\u001B[0m\u001B[1mhelm_release.nfs_client_provisioner: Still creating... [4m40s elapsed]\u001B[0m\u001B[0m\n",
      "\u001B[0m\u001B[1mhelm_release.nfs_client_provisioner: Still creating... [4m50s elapsed]\u001B[0m\u001B[0m\n",
      "\u001B[0m\u001B[1mhelm_release.nfs_client_provisioner: Still creating... [5m0s elapsed]\u001B[0m\u001B[0m\n",
      "\u001B[0m\u001B[1mhelm_release.nfs_client_provisioner: Still creating... [5m10s elapsed]\u001B[0m\u001B[0m\n",
      "\u001B[0m\u001B[1mhelm_release.nfs_client_provisioner: Still creating... [5m20s elapsed]\u001B[0m\u001B[0m\n",
      "\u001B[33m╷\u001B[0m\u001B[0m\n",
      "\u001B[33m│\u001B[0m \u001B[0m\u001B[1m\u001B[33mWarning: \u001B[0m\u001B[0m\u001B[1mHelm release \"nfs-server\" was created but has a failed status. Use the `helm` command to investigate the error, correct it, then run Terraform again.\u001B[0m\n",
      "\u001B[33m│\u001B[0m \u001B[0m\n",
      "\u001B[33m│\u001B[0m \u001B[0m\u001B[0m  with helm_release.nfs_client_provisioner,\n",
      "\u001B[33m│\u001B[0m \u001B[0m  on main.tf line 16, in resource \"helm_release\" \"nfs_client_provisioner\":\n",
      "\u001B[33m│\u001B[0m \u001B[0m  16: resource \"helm_release\" \"nfs_client_provisioner\" \u001B[4m{\u001B[0m\u001B[0m\n",
      "\u001B[33m│\u001B[0m \u001B[0m\n",
      "\u001B[33m╵\u001B[0m\u001B[0m\n",
      "\u001B[31m╷\u001B[0m\u001B[0m\n",
      "\u001B[31m│\u001B[0m \u001B[0m\u001B[1m\u001B[31mError: \u001B[0m\u001B[0m\u001B[1mtimed out waiting for the condition\u001B[0m\n",
      "\u001B[31m│\u001B[0m \u001B[0m\n",
      "\u001B[31m│\u001B[0m \u001B[0m\u001B[0m  with helm_release.nfs_client_provisioner,\n",
      "\u001B[31m│\u001B[0m \u001B[0m  on main.tf line 16, in resource \"helm_release\" \"nfs_client_provisioner\":\n",
      "\u001B[31m│\u001B[0m \u001B[0m  16: resource \"helm_release\" \"nfs_client_provisioner\" \u001B[4m{\u001B[0m\u001B[0m\n",
      "\u001B[31m│\u001B[0m \u001B[0m\n",
      "\u001B[31m╵\u001B[0m\u001B[0m\n"
     ]
    },
    {
     "ename": "",
     "evalue": "1",
     "output_type": "error",
     "traceback": []
    }
   ],
   "source": [
    "# Install the extractor, and set the projectName to $PROJECT_ID.\n",
    "# In case you get a warning regarding the namespace test, this means that the dependencies have not been properly installed.\n",
    "# Make sure to check whether you have enough resources available, and re-run the installation of dependencies. (see above).\n",
    "\n",
    "# Deploy extractor, in test namespace with updated image reference (--set overwrites values from `fltk-values.yaml`).\n",
    "helm install extractor ../charts/extractor -f ../charts/fltk-values.yaml --namespace test --set provider.projectName=$PROJECT_ID"
   ],
   "metadata": {
    "collapsed": false,
    "pycharm": {
     "name": "#%%\n"
    }
   }
  },
  {
   "cell_type": "markdown",
   "source": [],
   "metadata": {
    "collapsed": false,
    "pycharm": {
     "name": "#%% md\n"
    }
   }
  },
  {
   "cell_type": "markdown",
   "metadata": {
    "pycharm": {
     "name": "#%% md\n"
    }
   },
   "source": [
    "## Testing the deployment\n",
    "\n",
    "To make sure that the deployment went OK, we can run the following command to test whether we can use Pytorch-Training operators.\n",
    "\n",
    "This will create a simple deployment using a Kubeflow pytorch example job.\n",
    "\n",
    "This will create a small (1 master, 1 client) training job on mnist on your cluster. You can follow the deployment by navigating to your cluster on [cloud.google.com](cloud.google.com)"
   ]
  },
  {
   "cell_type": "code",
   "execution_count": null,
   "metadata": {
    "pycharm": {
     "name": "#%%\n"
    }
   },
   "outputs": [],
   "source": [
    "# This cell is optional, but the next shell should show that a pytorch train job is created.\n",
    "kubectl create -f https://raw.githubusercontent.com/kubeflow/training-operator/master/examples/pytorch/simple.yaml"
   ]
  },
  {
   "cell_type": "code",
   "execution_count": null,
   "metadata": {
    "pycharm": {
     "name": "#%%\n"
    }
   },
   "outputs": [],
   "source": [
    "# Retrieve all CRD Pytorchjob from Kubeflow.\n",
    "kubectl get pytorchjobs.kubeflow.org --all-namespaces\n",
    "\n",
    "# Alternatively, we can remove all jobs, this will remove all information and logs as well.\n",
    "kubectl delete pytorchjobs.kubeflow.org --all-namespaces --all"
   ]
  },
  {
   "cell_type": "markdown",
   "metadata": {
    "pycharm": {
     "name": "#%% md\n"
    }
   },
   "source": [
    "# Cleaning up"
   ]
  },
  {
   "cell_type": "markdown",
   "metadata": {},
   "source": [
    "## Scaling down the cluster\n",
    "\n",
    "This is the preferred way to scale down.\n",
    "Scale node pools down to prevent idle resource utilization."
   ]
  },
  {
   "cell_type": "code",
   "execution_count": null,
   "metadata": {
    "pycharm": {
     "name": "#%%\n"
    }
   },
   "outputs": [],
   "source": [
    "gcloud container clusters resize $CLUSTER_NAME --node-pool $DEFAULT_POOL \\\n",
    "     --num-nodes 0 --region $REGION --quiet\n",
    "\n",
    "gcloud container clusters resize $CLUSTER_NAME --node-pool $EXPERIMENT_POOL \\\n",
    "    --num-nodes 0 --region $REGION --quiet"
   ]
  },
  {
   "cell_type": "markdown",
   "metadata": {},
   "source": [
    "## Destroying the cluster\n",
    "\n",
    "> ⚠️ THIS WILL REMOVE YOUR CLUSTER AND DATA STORED ON IT. For this tutorial's purpose destroying your cluster is not an issue. For testing/developing, we recommend manually scaling your cluster up and down instead.\n",
    "\n",
    "To clean up/remove the cluster, we will use the `terraform destroy` command.\n",
    "\n",
    " * Running it in `terraform-dependencies` WILL REMOVE the Kubeflow Training-Operator from your cluster.\n",
    " * Running it in `terraform-gke` WILL REMOVE YOU ENTIRE CLUSTER.\n",
    "\n",
    "You can uncomment the commands below to remove the cluster, or run the command in a terminal in the [`../terraform/terraform-gke`](../terraform/terraform-gke) directory.\n",
    "\n",
    "> ⚠️ It is recommended to scale down the cluster/nodepools rather then destroying, refer to the last code block."
   ]
  },
  {
   "cell_type": "code",
   "execution_count": null,
   "metadata": {},
   "outputs": [],
   "source": [
    "# THIS WILL REMOVE/TEARDOWN YOUR CLUSTER, ONLY RECOMMENDED FOR TESTING THE DEPLOYMENT\n",
    "\n",
    "terraform -chdir=$TERRAFORM_DEPENDENCIES_DIR destroy -auto-approve -var project_id=$PROJECT_ID\n",
    "\n",
    "terraform -chdir=$TERRAFORM_GKE_DIR destroy -auto-approve -var project_id=$PROJECT_ID"
   ]
  },
  {
   "cell_type": "code",
   "execution_count": null,
   "outputs": [],
   "source": [
    "# Change nodepools\n",
    "\n",
    "\n",
    "gcloud container clusters resize $CLUSTER_NAME --node-pool \"default-node-pool\" \\\n",
    "     --num-nodes 0 --region us-central1-c --quiet\n",
    "\n",
    "gcloud container clusters resize $CLUSTER_NAME --node-pool \"medium-fltk-pool-1\" \\\n",
    "    --num-nodes 0 --region us-central1-c --quiet\n"
   ],
   "metadata": {
    "collapsed": false,
    "pycharm": {
     "name": "#%%\n"
    }
   }
  },
  {
   "cell_type": "code",
   "execution_count": null,
   "outputs": [],
   "source": [],
   "metadata": {
    "collapsed": false
   }
  }
 ],
 "metadata": {
  "title": "Tutorial (Terraform)",
  "kernelspec": {
   "display_name": "Bash",
   "language": "bash",
   "name": "bash"
  },
  "language_info": {
   "codemirror_mode": "shell",
   "file_extension": ".sh",
   "mimetype": "text/x-sh",
   "name": "bash"
  },
  "title": "Tutorial (Terraform)"
 },
 "nbformat": 4,
 "nbformat_minor": 1
}
