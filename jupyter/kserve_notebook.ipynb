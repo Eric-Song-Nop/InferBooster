{
 "cells": [
  {
   "cell_type": "code",
   "execution_count": 1,
   "id": "caa528dd",
   "metadata": {
    "pycharm": {
     "name": "#%%\n"
    }
   },
   "outputs": [
    {
     "name": "stdout",
     "output_type": "stream",
     "text": [
      "1\n"
     ]
    }
   ],
   "source": [
    "echo 1"
   ]
  },
  {
   "cell_type": "code",
   "execution_count": 1,
   "id": "6a043e7c",
   "metadata": {
    "pycharm": {
     "name": "#%%\n"
    }
   },
   "outputs": [
    {
     "name": "stdout",
     "output_type": "stream",
     "text": [
      "Default change: VPC-native is the default mode during cluster creation for versions greater than 1.21.0-gke.1500. To create advanced routes based clusters, please pass the `--no-enable-ip-alias` flag\n",
      "Note: Modifications on the boot disks of node VMs do not persist across node recreations. Nodes are recreated during manual-upgrade, auto-upgrade, auto-repair, and auto-scaling. To preserve modifications across node recreation, use a DaemonSet.\n",
      "Default change: During creation of nodepools or autoscaling configuration changes for cluster versions greater than 1.24.1-gke.800 a default location policy is applied. For Spot and PVM it defaults to ANY, and for all other VM kinds a BALANCED policy is used. To change the default values use the `--location-policy` flag.\n",
      "Note: Your Pod address range (`--cluster-ipv4-cidr`) can accommodate at most 1008 node(s).\n",
      "Note: Machines with GPUs have certain limitations which may affect your workflow. Learn more at https://cloud.google.com/kubernetes-engine/docs/how-to/gpus\n",
      "ERROR: (gcloud.beta.container.clusters.create) ResponseError: code=403, message=Insufficient regional quota to satisfy request: resource \"NVIDIA_T4_GPUS\": request requires '3.0' and is short '2.0'. project has a quota of '1.0' with '1.0' available. View and manage quotas at https://console.cloud.google.com/iam-admin/quotas?usage=USED&project=eminent-parsec-362007.\n"
     ]
    },
    {
     "ename": "",
     "evalue": "1",
     "output_type": "error",
     "traceback": []
    }
   ],
   "source": [
    "gcloud beta container clusters create \"tns-kserve\" \\\n",
    "--project=\"eminent-parsec-362007\" \\\n",
    "--zone \"us-central1-c\" \\\n",
    "--no-enable-basic-auth \\\n",
    "--cluster-version \"1.22.12-gke.2300\" \\\n",
    "--machine-type \"n1-standard-4\" \\\n",
    "--accelerator type=nvidia-tesla-t4,count=1 \\\n",
    "--num-nodes \"3\" \\\n",
    "--image-type \"UBUNTU_CONTAINERD\" \\\n",
    "--disk-type \"pd-standard\" \\\n",
    "--disk-size \"100\" \\\n"
   ]
  },
  {
   "cell_type": "code",
   "execution_count": 5,
   "outputs": [
    {
     "name": "stdout",
     "output_type": "stream",
     "text": [
      "Default change: VPC-native is the default mode during cluster creation for versions greater than 1.21.0-gke.1500. To create advanced routes based clusters, please pass the `--no-enable-ip-alias` flag\n",
      "Default change: During creation of nodepools or autoscaling configuration changes for cluster versions greater than 1.24.1-gke.800 a default location policy is applied. For Spot and PVM it defaults to ANY, and for all other VM kinds a BALANCED policy is used. To change the default values use the `--location-policy` flag.\n",
      "Note: Your Pod address range (`--cluster-ipv4-cidr`) can accommodate at most 1008 node(s).\n",
      "Note: Machines with GPUs have certain limitations which may affect your workflow. Learn more at https://cloud.google.com/kubernetes-engine/docs/how-to/gpus\n",
      "ERROR: (gcloud.container.clusters.create) ResponseError: code=409, message=Already exists: projects/eminent-parsec-362007/zones/us-central1-c/clusters/tns-kserve.\n"
     ]
    },
    {
     "ename": "",
     "evalue": "1",
     "output_type": "error",
     "traceback": []
    }
   ],
   "source": [
    "gcloud container clusters create tns-kserve  \\\n",
    "    --project=eminent-parsec-362007  \\\n",
    "    --zone us-central1-c  \\\n",
    "    --cluster-version=1.22.12-gke.2300  \\\n",
    "    --accelerator type=nvidia-tesla-t4,count=1  \\\n",
    "    --machine-type=n1-standard-4  \\\n",
    "    --num-nodes=1"
   ],
   "metadata": {
    "collapsed": false,
    "pycharm": {
     "name": "#%%\n"
    }
   }
  },
  {
   "cell_type": "code",
   "execution_count": null,
   "outputs": [
    {
     "name": "stdout",
     "output_type": "stream",
     "text": [
      "Do you want to continue (Y/n)?  \r\n",
      "\r\n",
      "Command killed by keyboard interrupt\r\n",
      "\r\n",
      "\r\n",
      "The following clusters will be deleted.\n",
      " - [tns-kserve] in [us-central1-c]\n",
      "\n",
      "Do you want to continue (Y/n)?  \r\n",
      "\r\n",
      "Command killed by keyboard interrupt\r\n",
      "\r\n",
      "\r\n"
     ]
    }
   ],
   "source": [
    "gcloud container clusters delete tns-kserve --zone us-central1-c"
   ],
   "metadata": {
    "collapsed": false,
    "pycharm": {
     "name": "#%%\n",
     "is_executing": true
    }
   }
  },
  {
   "cell_type": "code",
   "execution_count": 16,
   "outputs": [
    {
     "name": "stdout",
     "output_type": "stream",
     "text": [
      "Default change: VPC-native is the default mode during cluster creation for versions greater than 1.21.0-gke.1500. To create advanced routes based clusters, please pass the `--no-enable-ip-alias` flag\n",
      "Note: Modifications on the boot disks of node VMs do not persist across node recreations. Nodes are recreated during manual-upgrade, auto-upgrade, auto-repair, and auto-scaling. To preserve modifications across node recreation, use a DaemonSet.\n",
      "Default change: During creation of nodepools or autoscaling configuration changes for cluster versions greater than 1.24.1-gke.800 a default location policy is applied. For Spot and PVM it defaults to ANY, and for all other VM kinds a BALANCED policy is used. To change the default values use the `--location-policy` flag.\n",
      "Note: Your Pod address range (`--cluster-ipv4-cidr`) can accommodate at most 1008 node(s).\n",
      "Note: Machines with GPUs have certain limitations which may affect your workflow. Learn more at https://cloud.google.com/kubernetes-engine/docs/how-to/gpus\n",
      "ERROR: (gcloud.beta.container.clusters.create) ResponseError: code=403, message=Insufficient regional quota to satisfy request: resource \"NVIDIA_T4_GPUS\": request requires '3.0' and is short '2.0'. project has a quota of '1.0' with '1.0' available. View and manage quotas at https://console.cloud.google.com/iam-admin/quotas?usage=USED&project=eminent-parsec-362007.\n"
     ]
    },
    {
     "ename": "",
     "evalue": "1",
     "output_type": "error",
     "traceback": []
    }
   ],
   "source": [
    "gcloud beta container clusters create \"tns-kserve\" \\\n",
    "--project \"eminent-parsec-362007\" \\\n",
    "--zone \"us-central1-c\" \\\n",
    "--no-enable-basic-auth \\\n",
    "--cluster-version \"1.22.12-gke.2300\" \\\n",
    "--machine-type \"n1-standard-4\" \\\n",
    "--accelerator \"type=nvidia-tesla-t4,count=1\" \\\n",
    "--num-nodes \"3\" \\\n",
    "--image-type \"UBUNTU_CONTAINERD\" \\\n",
    "--disk-type \"pd-standard\" \\\n",
    "--disk-size \"100\" \\\n",
    "--scopes \"https://www.googleapis.com/auth/devstorage.read_only\",\"https://www.googleapis.com/auth/logging.write\",\"https://www.googleapis.com/auth/monitoring\",\"https://www.googleapis.com/auth/servicecontrol\",\"https://www.googleapis.com/auth/service.management.readonly\",\"https://www.googleapis.com/auth/trace.append\""
   ],
   "metadata": {
    "collapsed": false,
    "pycharm": {
     "name": "#%%\n"
    }
   }
  },
  {
   "cell_type": "code",
   "execution_count": 17,
   "outputs": [],
   "source": [
    "gcloud container clusters list"
   ],
   "metadata": {
    "collapsed": false,
    "pycharm": {
     "name": "#%%\n"
    }
   }
  },
  {
   "cell_type": "code",
   "execution_count": null,
   "outputs": [],
   "source": [
    "gcloud beta container clusters create \"tns-kserve\" \\\n",
    "--project \"janakiramm-sandbox\" \\\n",
    "--zone \"asia-southeast1-c\" \\\n",
    "--no-enable-basic-auth \\\n",
    "--cluster-version \"1.22.4-gke.1501\" \\\n",
    "--machine-type \"n1-standard-4\" \\\n",
    "--accelerator \"type=nvidia-tesla-t4,count=1\" \\\n",
    "--num-nodes \"3\" \\\n",
    "--image-type \"UBUNTU_CONTAINERD\" \\\n",
    "--disk-type \"pd-standard\" \\\n",
    "--disk-size \"100\" \\\n",
    "--scopes \"https://www.googleapis.com/auth/devstorage.read_only\",\"https://www.googleapis.com/auth/logging.write\",\"https://www.googleapis.com/auth/monitoring\",\"https://www.googleapis.com/auth/servicecontrol\",\"https://www.googleapis.com/auth/service.management.readonly\",\"https://www.googleapis.com/auth/trace.append\""
   ],
   "metadata": {
    "collapsed": false,
    "pycharm": {
     "name": "#%%\n"
    }
   }
  },
  {
   "cell_type": "code",
   "execution_count": null,
   "outputs": [],
   "source": [
    "gcloud projects create yufan-cs4215-kserve-1 --name=\"kserve project\""
   ],
   "metadata": {
    "collapsed": false,
    "pycharm": {
     "name": "#%%\n"
    }
   }
  }
 ],
 "metadata": {
  "kernelspec": {
   "display_name": "Bash",
   "language": "bash",
   "name": "bash"
  },
  "language_info": {
   "codemirror_mode": "shell",
   "file_extension": ".sh",
   "mimetype": "text/x-sh",
   "name": "bash"
  }
 },
 "nbformat": 4,
 "nbformat_minor": 5
}