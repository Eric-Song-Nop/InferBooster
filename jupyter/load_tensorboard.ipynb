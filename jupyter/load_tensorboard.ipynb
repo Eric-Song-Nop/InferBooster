{
 "cells": [
  {
   "cell_type": "code",
   "execution_count": 1,
   "metadata": {
    "pycharm": {
     "name": "#%%\n"
    }
   },
   "outputs": [
    {
     "name": "stderr",
     "output_type": "stream",
     "text": [
      "2022-11-01 14:18:54.836001: I tensorflow/core/platform/cpu_feature_guard.cc:193] This TensorFlow binary is optimized with oneAPI Deep Neural Network Library (oneDNN) to use the following CPU instructions in performance-critical operations:  AVX2 FMA\n",
      "To enable them in other operations, rebuild TensorFlow with the appropriate compiler flags.\n"
     ]
    }
   ],
   "source": [
    "#!pip install tensorboard tensorflow pandas\n",
    "\n",
    "\"\"\"\n",
    "If tensorboard is not installed (or other dependencies, such as tensorflow and pandas),\n",
    "uncomment the command in top and re-run. This needs only to be run once in a Jupyter kernel.\n",
    "\"\"\"\n",
    "\n",
    "%load_ext tensorboard\n",
    "\n",
    "from tensorflow.python.summary.summary_iterator import summary_iterator\n",
    "import pandas as pd"
   ]
  },
  {
   "cell_type": "code",
   "execution_count": 3,
   "metadata": {
    "collapsed": true,
    "pycharm": {
     "name": "#%%\n"
    }
   },
   "outputs": [
    {
     "data": {
      "text/html": [
       "\n",
       "      <iframe id=\"tensorboard-frame-41bcf1be2755edff\" width=\"100%\" height=\"800\" frameborder=\"0\">\n",
       "      </iframe>\n",
       "      <script>\n",
       "        (function() {\n",
       "          const frame = document.getElementById(\"tensorboard-frame-41bcf1be2755edff\");\n",
       "          const url = new URL(\"/\", window.location);\n",
       "          const port = 6006;\n",
       "          if (port) {\n",
       "            url.port = port;\n",
       "          }\n",
       "          frame.src = url;\n",
       "        })();\n",
       "      </script>\n",
       "    "
      ],
      "text/plain": [
       "<IPython.core.display.HTML object>"
      ]
     },
     "metadata": {},
     "output_type": "display_data"
    }
   ],
   "source": [
    "\"\"\"\n",
    "Change the LOG_DIR argument to point to the correct directory, you may want to use an\n",
    "absolute path if you run into issues.\n",
    "\"\"\"\n",
    "%tensorboard --logdir data/64/logs-64-30-2"
   ]
  },
  {
   "cell_type": "code",
   "execution_count": 2,
   "metadata": {
    "pycharm": {
     "name": "#%%\n"
    }
   },
   "outputs": [],
   "source": [
    "def logs_to_pandas(path: str) -> pd.DataFrame:\n",
    "    \"\"\"convert single tensorflow log file to pandas DataFrame\n",
    "    Parameters\n",
    "    ----------\n",
    "    path : str\n",
    "        path to tensorflow log file\n",
    "    Returns\n",
    "    -------\n",
    "    pd.DataFrame\n",
    "        converted dataframe\n",
    "    \"\"\"\n",
    "\n",
    "    runlog_data = pd.DataFrame({\"metric\": [], \"value\": [], \"step\": [], \"wall_time\": []})\n",
    "    try:\n",
    "        event_acc = summary_iterator(path)\n",
    "        for event in list(event_acc)[1:]:\n",
    "            step, wall_time = event.step, pd.to_datetime(event.wall_time, unit='s')\n",
    "            simple_extractor = [{\"metric\": v.tag, \"value\": v.simple_value, \"step\": step, 'wall_time': wall_time} for v in event.summary.value]\n",
    "            event_r = pd.DataFrame(simple_extractor)\n",
    "            runlog_data = pd.concat([runlog_data, event_r])\n",
    "    # Dirty catch of DataLossError\n",
    "    except Exception as e:\n",
    "        print(\"Event file possibly corrupt: {}\".format(path))\n",
    "        print(e)\n",
    "    return runlog_data"
   ]
  },
  {
   "cell_type": "code",
   "execution_count": 3,
   "metadata": {},
   "outputs": [],
   "source": [
    "from glob import glob\n",
    "import os\n",
    "import numpy as np"
   ]
  },
  {
   "cell_type": "code",
   "execution_count": 7,
   "metadata": {},
   "outputs": [],
   "source": [
    "for lambda_ in [15, 20]:\n",
    "    with open(f'service_time_{lambda_}.txt', 'w') as f:\n",
    "        for r_type in glob(f'data/l{lambda_}-128-35-3'):\n",
    "            for log_path in glob(os.path.join(r_type,'*.log')):\n",
    "                arrival_times = []\n",
    "                server_log_data  = open(log_path)\n",
    "                service_avg = np.array([])\n",
    "                for l in server_log_data.readlines():\n",
    "                    if l.find('Scheduling') >=0:\n",
    "                        node_arrival_times = ' '.join(l.split(' ')[0:2])\n",
    "                        label = l.strip().split(' ')[-1]\n",
    "                        files = glob(os.path.join(r_type, '0/cloud_experiment_'+label+'/*/*/*'))\n",
    "                        for file in files:\n",
    "                            log_df = logs_to_pandas(file)\n",
    "                            acc_df = log_df.loc[log_df['metric'] == 'accuracy per epoch']\n",
    "                            service_start_time = acc_df.iloc[0]['wall_time']\n",
    "                            end_times = acc_df.iloc[-1]['wall_time']\n",
    "                            training_time = end_times - service_start_time\n",
    "                            service_avg = np.append(service_avg, training_time)\n",
    "\n",
    "                print('configuration: ',log_path.split('/')[-1].split('.')[0], file=f)\n",
    "                print(service_avg, file=f)\n",
    "                print('mean service time = ', np.mean(service_avg),file=f)\n",
    "        f.close()"
   ]
  },
  {
   "cell_type": "code",
   "execution_count": 8,
   "metadata": {},
   "outputs": [],
   "source": [
    "# for batch_size in [64, 128, 256]:\n",
    "for lambda_ in [15, 20]:\n",
    "    with open(f'response_time_{lambda_}.txt', 'w') as f:\n",
    "        for r_type in glob(f'data/l{lambda_}-128-35-3'):\n",
    "            for log_path in glob(os.path.join(r_type,'*.log')):\n",
    "                server_log_data  = open(log_path)\n",
    "                service_avg = np.array([])\n",
    "                response_avg = np.array([])\n",
    "                for l in server_log_data.readlines():\n",
    "                    if l.find('Scheduling') >=0:\n",
    "                        node_arrival_times = pd.Timestamp(' '.join(l.split(' ')[0:2]))\n",
    "                        label = l.strip().split(' ')[-1]\n",
    "                        files = glob(os.path.join(r_type, '0/cloud_experiment_'+label+'/*/*/*'))\n",
    "                        for file in files:\n",
    "                            log_df = logs_to_pandas(file)\n",
    "                            acc_df = log_df.loc[log_df['metric'] == 'accuracy per epoch']\n",
    "                            service_start_time = acc_df.iloc[0]['wall_time']\n",
    "                            end_times = acc_df.iloc[-1]['wall_time']\n",
    "                            service_time = end_times - service_start_time\n",
    "                            response_time = end_times - node_arrival_times\n",
    "                            response_avg = np.append(response_avg, response_time)\n",
    "                            service_avg = np.append(service_avg, service_time)\n",
    "                \n",
    "                print('configuration: ',log_path.split('/')[-1].split('.')[0], file=f)\n",
    "                print(response_avg, file=f)\n",
    "                print('mean response time = ', np.mean(response_avg),file=f)\n",
    "        f.close()"
   ]
  },
  {
   "cell_type": "code",
   "execution_count": 6,
   "metadata": {},
   "outputs": [],
   "source": [
    "for batch_size in [64, 128, 256]:\n",
    "    with open(f'accuracy_{batch_size}.txt', 'w') as f:\n",
    "        for r_type in glob(f'data/{batch_size}/*'):\n",
    "            for log_path in glob(os.path.join(r_type,'*.log')):\n",
    "                server_log_data  = open(log_path)\n",
    "                acc_avg = np.array([])\n",
    "                for l in server_log_data.readlines():\n",
    "                    if l.find('Scheduling') >=0:\n",
    "                        label = l.strip().split(' ')[-1]\n",
    "                        files = glob(os.path.join(r_type, '0/cloud_experiment_'+label+'/*/*/*'))\n",
    "                        for file in files:\n",
    "                            log_df = logs_to_pandas(file)\n",
    "                            acc_df = log_df.loc[log_df['metric'] == 'accuracy per epoch']\n",
    "                            acc = acc_df.iloc[-1]['value']\n",
    "                            acc_avg = np.append(acc_avg, acc)\n",
    "                \n",
    "                print('configuration: ',log_path.split('/')[-1].split('.')[0], file=f)\n",
    "                print(acc_avg, file=f)\n",
    "                print('mean accuracy = ', np.mean(acc_avg),file=f)\n",
    "        f.close()"
   ]
  },
  {
   "cell_type": "code",
   "execution_count": 117,
   "metadata": {
    "collapsed": true
   },
   "outputs": [
    {
     "data": {
      "text/html": [
       "<div>\n",
       "<style scoped>\n",
       "    .dataframe tbody tr th:only-of-type {\n",
       "        vertical-align: middle;\n",
       "    }\n",
       "\n",
       "    .dataframe tbody tr th {\n",
       "        vertical-align: top;\n",
       "    }\n",
       "\n",
       "    .dataframe thead th {\n",
       "        text-align: right;\n",
       "    }\n",
       "</style>\n",
       "<table border=\"1\" class=\"dataframe\">\n",
       "  <thead>\n",
       "    <tr style=\"text-align: right;\">\n",
       "      <th></th>\n",
       "      <th>metric</th>\n",
       "      <th>value</th>\n",
       "      <th>step</th>\n",
       "      <th>wall_time</th>\n",
       "    </tr>\n",
       "  </thead>\n",
       "  <tbody>\n",
       "    <tr>\n",
       "      <th>0</th>\n",
       "      <td>accuracy per epoch</td>\n",
       "      <td>81.599998</td>\n",
       "      <td>1.0</td>\n",
       "      <td>2022-10-30 14:56:20.588840960</td>\n",
       "    </tr>\n",
       "    <tr>\n",
       "      <th>0</th>\n",
       "      <td>accuracy per epoch</td>\n",
       "      <td>83.760002</td>\n",
       "      <td>2.0</td>\n",
       "      <td>2022-10-30 14:57:34.897481728</td>\n",
       "    </tr>\n",
       "    <tr>\n",
       "      <th>0</th>\n",
       "      <td>accuracy per epoch</td>\n",
       "      <td>85.120003</td>\n",
       "      <td>3.0</td>\n",
       "      <td>2022-10-30 14:58:47.295026432</td>\n",
       "    </tr>\n",
       "    <tr>\n",
       "      <th>0</th>\n",
       "      <td>accuracy per epoch</td>\n",
       "      <td>86.480003</td>\n",
       "      <td>4.0</td>\n",
       "      <td>2022-10-30 14:59:59.007947264</td>\n",
       "    </tr>\n",
       "    <tr>\n",
       "      <th>0</th>\n",
       "      <td>accuracy per epoch</td>\n",
       "      <td>87.720001</td>\n",
       "      <td>5.0</td>\n",
       "      <td>2022-10-30 15:01:11.896925184</td>\n",
       "    </tr>\n",
       "    <tr>\n",
       "      <th>0</th>\n",
       "      <td>accuracy per epoch</td>\n",
       "      <td>88.199997</td>\n",
       "      <td>6.0</td>\n",
       "      <td>2022-10-30 15:02:25.590745600</td>\n",
       "    </tr>\n",
       "    <tr>\n",
       "      <th>0</th>\n",
       "      <td>accuracy per epoch</td>\n",
       "      <td>88.400002</td>\n",
       "      <td>7.0</td>\n",
       "      <td>2022-10-30 15:03:38.496906496</td>\n",
       "    </tr>\n",
       "    <tr>\n",
       "      <th>0</th>\n",
       "      <td>accuracy per epoch</td>\n",
       "      <td>88.559998</td>\n",
       "      <td>8.0</td>\n",
       "      <td>2022-10-30 15:04:51.787293952</td>\n",
       "    </tr>\n",
       "    <tr>\n",
       "      <th>0</th>\n",
       "      <td>accuracy per epoch</td>\n",
       "      <td>88.279999</td>\n",
       "      <td>9.0</td>\n",
       "      <td>2022-10-30 15:06:04.789909504</td>\n",
       "    </tr>\n",
       "    <tr>\n",
       "      <th>0</th>\n",
       "      <td>accuracy per epoch</td>\n",
       "      <td>87.559998</td>\n",
       "      <td>10.0</td>\n",
       "      <td>2022-10-30 15:07:17.194273792</td>\n",
       "    </tr>\n",
       "    <tr>\n",
       "      <th>0</th>\n",
       "      <td>accuracy per epoch</td>\n",
       "      <td>87.239998</td>\n",
       "      <td>11.0</td>\n",
       "      <td>2022-10-30 15:08:30.387550720</td>\n",
       "    </tr>\n",
       "    <tr>\n",
       "      <th>0</th>\n",
       "      <td>accuracy per epoch</td>\n",
       "      <td>87.559998</td>\n",
       "      <td>12.0</td>\n",
       "      <td>2022-10-30 15:09:43.405406208</td>\n",
       "    </tr>\n",
       "    <tr>\n",
       "      <th>0</th>\n",
       "      <td>accuracy per epoch</td>\n",
       "      <td>88.199997</td>\n",
       "      <td>13.0</td>\n",
       "      <td>2022-10-30 15:10:55.307209472</td>\n",
       "    </tr>\n",
       "    <tr>\n",
       "      <th>0</th>\n",
       "      <td>accuracy per epoch</td>\n",
       "      <td>87.839996</td>\n",
       "      <td>14.0</td>\n",
       "      <td>2022-10-30 15:12:08.005099776</td>\n",
       "    </tr>\n",
       "    <tr>\n",
       "      <th>0</th>\n",
       "      <td>accuracy per epoch</td>\n",
       "      <td>87.360001</td>\n",
       "      <td>15.0</td>\n",
       "      <td>2022-10-30 15:13:20.805687552</td>\n",
       "    </tr>\n",
       "    <tr>\n",
       "      <th>0</th>\n",
       "      <td>accuracy per epoch</td>\n",
       "      <td>86.879997</td>\n",
       "      <td>16.0</td>\n",
       "      <td>2022-10-30 15:14:34.106849024</td>\n",
       "    </tr>\n",
       "    <tr>\n",
       "      <th>0</th>\n",
       "      <td>accuracy per epoch</td>\n",
       "      <td>88.080002</td>\n",
       "      <td>17.0</td>\n",
       "      <td>2022-10-30 15:15:48.484777216</td>\n",
       "    </tr>\n",
       "    <tr>\n",
       "      <th>0</th>\n",
       "      <td>accuracy per epoch</td>\n",
       "      <td>87.839996</td>\n",
       "      <td>18.0</td>\n",
       "      <td>2022-10-30 15:17:01.793914624</td>\n",
       "    </tr>\n",
       "    <tr>\n",
       "      <th>0</th>\n",
       "      <td>accuracy per epoch</td>\n",
       "      <td>88.279999</td>\n",
       "      <td>19.0</td>\n",
       "      <td>2022-10-30 15:18:13.287048704</td>\n",
       "    </tr>\n",
       "    <tr>\n",
       "      <th>0</th>\n",
       "      <td>accuracy per epoch</td>\n",
       "      <td>87.639999</td>\n",
       "      <td>20.0</td>\n",
       "      <td>2022-10-30 15:19:24.996225792</td>\n",
       "    </tr>\n",
       "    <tr>\n",
       "      <th>0</th>\n",
       "      <td>accuracy per epoch</td>\n",
       "      <td>87.080002</td>\n",
       "      <td>21.0</td>\n",
       "      <td>2022-10-30 15:20:39.386143488</td>\n",
       "    </tr>\n",
       "    <tr>\n",
       "      <th>0</th>\n",
       "      <td>accuracy per epoch</td>\n",
       "      <td>87.040001</td>\n",
       "      <td>22.0</td>\n",
       "      <td>2022-10-30 15:21:52.503059712</td>\n",
       "    </tr>\n",
       "    <tr>\n",
       "      <th>0</th>\n",
       "      <td>accuracy per epoch</td>\n",
       "      <td>87.760002</td>\n",
       "      <td>23.0</td>\n",
       "      <td>2022-10-30 15:23:04.584749568</td>\n",
       "    </tr>\n",
       "    <tr>\n",
       "      <th>0</th>\n",
       "      <td>accuracy per epoch</td>\n",
       "      <td>87.680000</td>\n",
       "      <td>24.0</td>\n",
       "      <td>2022-10-30 15:24:17.999945728</td>\n",
       "    </tr>\n",
       "    <tr>\n",
       "      <th>0</th>\n",
       "      <td>accuracy per epoch</td>\n",
       "      <td>87.959999</td>\n",
       "      <td>25.0</td>\n",
       "      <td>2022-10-30 15:25:30.003725312</td>\n",
       "    </tr>\n",
       "    <tr>\n",
       "      <th>0</th>\n",
       "      <td>accuracy per epoch</td>\n",
       "      <td>88.279999</td>\n",
       "      <td>26.0</td>\n",
       "      <td>2022-10-30 15:26:42.305266944</td>\n",
       "    </tr>\n",
       "    <tr>\n",
       "      <th>0</th>\n",
       "      <td>accuracy per epoch</td>\n",
       "      <td>88.320000</td>\n",
       "      <td>27.0</td>\n",
       "      <td>2022-10-30 15:27:55.192821760</td>\n",
       "    </tr>\n",
       "    <tr>\n",
       "      <th>0</th>\n",
       "      <td>accuracy per epoch</td>\n",
       "      <td>87.720001</td>\n",
       "      <td>28.0</td>\n",
       "      <td>2022-10-30 15:29:07.388854272</td>\n",
       "    </tr>\n",
       "    <tr>\n",
       "      <th>0</th>\n",
       "      <td>accuracy per epoch</td>\n",
       "      <td>88.040001</td>\n",
       "      <td>29.0</td>\n",
       "      <td>2022-10-30 15:30:21.983843584</td>\n",
       "    </tr>\n",
       "  </tbody>\n",
       "</table>\n",
       "</div>"
      ],
      "text/plain": [
       "               metric      value  step                     wall_time\n",
       "0  accuracy per epoch  81.599998   1.0 2022-10-30 14:56:20.588840960\n",
       "0  accuracy per epoch  83.760002   2.0 2022-10-30 14:57:34.897481728\n",
       "0  accuracy per epoch  85.120003   3.0 2022-10-30 14:58:47.295026432\n",
       "0  accuracy per epoch  86.480003   4.0 2022-10-30 14:59:59.007947264\n",
       "0  accuracy per epoch  87.720001   5.0 2022-10-30 15:01:11.896925184\n",
       "0  accuracy per epoch  88.199997   6.0 2022-10-30 15:02:25.590745600\n",
       "0  accuracy per epoch  88.400002   7.0 2022-10-30 15:03:38.496906496\n",
       "0  accuracy per epoch  88.559998   8.0 2022-10-30 15:04:51.787293952\n",
       "0  accuracy per epoch  88.279999   9.0 2022-10-30 15:06:04.789909504\n",
       "0  accuracy per epoch  87.559998  10.0 2022-10-30 15:07:17.194273792\n",
       "0  accuracy per epoch  87.239998  11.0 2022-10-30 15:08:30.387550720\n",
       "0  accuracy per epoch  87.559998  12.0 2022-10-30 15:09:43.405406208\n",
       "0  accuracy per epoch  88.199997  13.0 2022-10-30 15:10:55.307209472\n",
       "0  accuracy per epoch  87.839996  14.0 2022-10-30 15:12:08.005099776\n",
       "0  accuracy per epoch  87.360001  15.0 2022-10-30 15:13:20.805687552\n",
       "0  accuracy per epoch  86.879997  16.0 2022-10-30 15:14:34.106849024\n",
       "0  accuracy per epoch  88.080002  17.0 2022-10-30 15:15:48.484777216\n",
       "0  accuracy per epoch  87.839996  18.0 2022-10-30 15:17:01.793914624\n",
       "0  accuracy per epoch  88.279999  19.0 2022-10-30 15:18:13.287048704\n",
       "0  accuracy per epoch  87.639999  20.0 2022-10-30 15:19:24.996225792\n",
       "0  accuracy per epoch  87.080002  21.0 2022-10-30 15:20:39.386143488\n",
       "0  accuracy per epoch  87.040001  22.0 2022-10-30 15:21:52.503059712\n",
       "0  accuracy per epoch  87.760002  23.0 2022-10-30 15:23:04.584749568\n",
       "0  accuracy per epoch  87.680000  24.0 2022-10-30 15:24:17.999945728\n",
       "0  accuracy per epoch  87.959999  25.0 2022-10-30 15:25:30.003725312\n",
       "0  accuracy per epoch  88.279999  26.0 2022-10-30 15:26:42.305266944\n",
       "0  accuracy per epoch  88.320000  27.0 2022-10-30 15:27:55.192821760\n",
       "0  accuracy per epoch  87.720001  28.0 2022-10-30 15:29:07.388854272\n",
       "0  accuracy per epoch  88.040001  29.0 2022-10-30 15:30:21.983843584"
      ]
     },
     "execution_count": 117,
     "metadata": {},
     "output_type": "execute_result"
    }
   ],
   "source": [
    "acc_df"
   ]
  },
  {
   "cell_type": "code",
   "execution_count": 115,
   "metadata": {},
   "outputs": [
    {
     "data": {
      "text/plain": [
       "Timedelta('2 days 21:28:27.983843584')"
      ]
     },
     "execution_count": 115,
     "metadata": {},
     "output_type": "execute_result"
    }
   ],
   "source": [
    "acc_df.iloc[-1]['wall_time'] - pd.Timestamp(\"10-27-2022 18:01:54\")"
   ]
  },
  {
   "cell_type": "code",
   "execution_count": 32,
   "metadata": {},
   "outputs": [],
   "source": [
    "log_df = logs_to_pandas(files[0])"
   ]
  },
  {
   "cell_type": "code",
   "execution_count": 73,
   "metadata": {},
   "outputs": [],
   "source": [
    "acc_df = log_df.loc[log_df['metric'] == 'accuracy per epoch']"
   ]
  },
  {
   "cell_type": "code",
   "execution_count": 84,
   "metadata": {},
   "outputs": [],
   "source": [
    "service_time = acc_df.iloc[-1]['wall_time'] - acc_df.iloc[0]['wall_time']"
   ]
  },
  {
   "cell_type": "code",
   "execution_count": 86,
   "metadata": {},
   "outputs": [
    {
     "data": {
      "text/plain": [
       "pandas._libs.tslibs.timedeltas.Timedelta"
      ]
     },
     "execution_count": 86,
     "metadata": {},
     "output_type": "execute_result"
    }
   ],
   "source": [
    "type(service_time)"
   ]
  },
  {
   "cell_type": "code",
   "execution_count": 104,
   "metadata": {},
   "outputs": [
    {
     "data": {
      "text/plain": [
       "Timestamp('2022-10-30 14:56:20.588718080')"
      ]
     },
     "execution_count": 104,
     "metadata": {},
     "output_type": "execute_result"
    }
   ],
   "source": [
    "log_df[log_df['step']==1]['wall_time'].iloc[0]"
   ]
  },
  {
   "cell_type": "code",
   "execution_count": null,
   "metadata": {},
   "outputs": [],
   "source": []
  }
 ],
 "metadata": {
  "kernelspec": {
   "display_name": "Python 3 (ipykernel)",
   "language": "python",
   "name": "python3"
  },
  "language_info": {
   "codemirror_mode": {
    "name": "ipython",
    "version": 3
   },
   "file_extension": ".py",
   "mimetype": "text/x-python",
   "name": "python",
   "nbconvert_exporter": "python",
   "pygments_lexer": "ipython3",
   "version": "3.8.13"
  }
 },
 "nbformat": 4,
 "nbformat_minor": 1
}
